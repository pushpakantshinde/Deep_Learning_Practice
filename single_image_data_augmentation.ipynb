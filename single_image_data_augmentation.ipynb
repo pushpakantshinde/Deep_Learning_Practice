{
 "cells": [
  {
   "cell_type": "code",
   "execution_count": 33,
   "metadata": {
    "id": "oFdHoOnMKt2t"
   },
   "outputs": [],
   "source": [
    "from keras.preprocessing import image\n",
    "from keras.preprocessing.image import ImageDataGenerator"
   ]
  },
  {
   "cell_type": "code",
   "execution_count": 34,
   "metadata": {},
   "outputs": [],
   "source": [
    "path = \"D:/__Data_Science__/iNeuron/02_Full_Stack_Data_Science_Masters/__CampusX__/__Deep_Learning__/CNN\\data_augmentation_single_image\""
   ]
  },
  {
   "cell_type": "code",
   "execution_count": 35,
   "metadata": {
    "id": "cd0DKlhtSY8U"
   },
   "outputs": [],
   "source": [
    "img = image.load_img(path +'/train/cat.jpg', target_size=(200,200))"
   ]
  },
  {
   "cell_type": "code",
   "execution_count": 36,
   "metadata": {
    "id": "AI7_aaVOTdOM"
   },
   "outputs": [
    {
     "data": {
      "text/plain": [
       "PIL.Image.Image"
      ]
     },
     "execution_count": 36,
     "metadata": {},
     "output_type": "execute_result"
    }
   ],
   "source": [
    "type(img)"
   ]
  },
  {
   "cell_type": "code",
   "execution_count": 37,
   "metadata": {
    "id": "pWzhQbGoTh_h"
   },
   "outputs": [],
   "source": [
    "datagen = ImageDataGenerator(\n",
    "    rotation_range=0.2,\n",
    "    shear_range=0.2,\n",
    "    zoom_range=0.2,\n",
    "    horizontal_flip=True,\n",
    "    #vertical_flip=True,    # we will not do vertical flip since cats legs will be upside and head will be downside which is not the case practically\n",
    "    width_shift_range=0.2,\n",
    "    height_shift_range=0.2,\n",
    "    #fill_mode='nearest'   #fill_mode: One of {\"constant\", \"nearest\", \"reflect\" or \"wrap\"}. Default is 'nearest'. Points outside the boundaries of the input are filled according to the given mode:\n",
    ")"
   ]
  },
  {
   "cell_type": "code",
   "execution_count": 38,
   "metadata": {
    "id": "bvKF8MFkUIEF"
   },
   "outputs": [],
   "source": [
    "img = image.img_to_array(img)"
   ]
  },
  {
   "cell_type": "code",
   "execution_count": 39,
   "metadata": {
    "id": "gHgHf5K1VwhK"
   },
   "outputs": [
    {
     "data": {
      "text/plain": [
       "numpy.ndarray"
      ]
     },
     "execution_count": 39,
     "metadata": {},
     "output_type": "execute_result"
    }
   ],
   "source": [
    "type(img)"
   ]
  },
  {
   "cell_type": "code",
   "execution_count": 40,
   "metadata": {
    "id": "bonNbEJrUUXC"
   },
   "outputs": [],
   "source": [
    "input_batch = img.reshape(1,200,200,3)"
   ]
  },
  {
   "cell_type": "code",
   "execution_count": 41,
   "metadata": {
    "id": "QX_NGC2LU6nD"
   },
   "outputs": [],
   "source": [
    "i = 0\n",
    "\n",
    "for batch in datagen.flow(input_batch, batch_size=1, save_to_dir=path +'/aug'):   # since we are using single image, so we are using datagen.flow, when mutiple images, we use flow_directory\n",
    "\n",
    "    i += 1\n",
    "    if i ==10:\n",
    "        break"
   ]
  },
  {
   "cell_type": "code",
   "execution_count": null,
   "metadata": {
    "id": "D5Cv8pWEH6hX"
   },
   "outputs": [],
   "source": [
    "input_batch.shape"
   ]
  }
 ],
 "metadata": {
  "colab": {
   "provenance": []
  },
  "kernelspec": {
   "display_name": "Python 3 (ipykernel)",
   "language": "python",
   "name": "python3"
  },
  "language_info": {
   "codemirror_mode": {
    "name": "ipython",
    "version": 3
   },
   "file_extension": ".py",
   "mimetype": "text/x-python",
   "name": "python",
   "nbconvert_exporter": "python",
   "pygments_lexer": "ipython3",
   "version": "3.11.5"
  }
 },
 "nbformat": 4,
 "nbformat_minor": 1
}
