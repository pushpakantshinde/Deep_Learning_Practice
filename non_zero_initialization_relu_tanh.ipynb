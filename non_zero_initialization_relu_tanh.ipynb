{
  "nbformat": 4,
  "nbformat_minor": 0,
  "metadata": {
    "colab": {
      "provenance": []
    },
    "kernelspec": {
      "name": "python3",
      "display_name": "Python 3"
    },
    "language_info": {
      "name": "python"
    }
  },
  "cells": [
    {
      "cell_type": "code",
      "execution_count": 1,
      "metadata": {
        "id": "YC_YCbcl9yA7"
      },
      "outputs": [],
      "source": [
        "import numpy as np\n",
        "import pandas as pd\n",
        "import matplotlib.pyplot as plt"
      ]
    },
    {
      "cell_type": "code",
      "source": [
        "from google.colab import files\n",
        "uploaded = files.upload()"
      ],
      "metadata": {
        "colab": {
          "base_uri": "https://localhost:8080/",
          "height": 74
        },
        "id": "arX016BQRsM4",
        "outputId": "b4acf807-86d9-4d0f-892f-5153dd38c4b7"
      },
      "execution_count": 2,
      "outputs": [
        {
          "output_type": "display_data",
          "data": {
            "text/plain": [
              "<IPython.core.display.HTML object>"
            ],
            "text/html": [
              "\n",
              "     <input type=\"file\" id=\"files-21c7eca7-dd14-497f-b0d9-ed10c61f3d97\" name=\"files[]\" multiple disabled\n",
              "        style=\"border:none\" />\n",
              "     <output id=\"result-21c7eca7-dd14-497f-b0d9-ed10c61f3d97\">\n",
              "      Upload widget is only available when the cell has been executed in the\n",
              "      current browser session. Please rerun this cell to enable.\n",
              "      </output>\n",
              "      <script>// Copyright 2017 Google LLC\n",
              "//\n",
              "// Licensed under the Apache License, Version 2.0 (the \"License\");\n",
              "// you may not use this file except in compliance with the License.\n",
              "// You may obtain a copy of the License at\n",
              "//\n",
              "//      http://www.apache.org/licenses/LICENSE-2.0\n",
              "//\n",
              "// Unless required by applicable law or agreed to in writing, software\n",
              "// distributed under the License is distributed on an \"AS IS\" BASIS,\n",
              "// WITHOUT WARRANTIES OR CONDITIONS OF ANY KIND, either express or implied.\n",
              "// See the License for the specific language governing permissions and\n",
              "// limitations under the License.\n",
              "\n",
              "/**\n",
              " * @fileoverview Helpers for google.colab Python module.\n",
              " */\n",
              "(function(scope) {\n",
              "function span(text, styleAttributes = {}) {\n",
              "  const element = document.createElement('span');\n",
              "  element.textContent = text;\n",
              "  for (const key of Object.keys(styleAttributes)) {\n",
              "    element.style[key] = styleAttributes[key];\n",
              "  }\n",
              "  return element;\n",
              "}\n",
              "\n",
              "// Max number of bytes which will be uploaded at a time.\n",
              "const MAX_PAYLOAD_SIZE = 100 * 1024;\n",
              "\n",
              "function _uploadFiles(inputId, outputId) {\n",
              "  const steps = uploadFilesStep(inputId, outputId);\n",
              "  const outputElement = document.getElementById(outputId);\n",
              "  // Cache steps on the outputElement to make it available for the next call\n",
              "  // to uploadFilesContinue from Python.\n",
              "  outputElement.steps = steps;\n",
              "\n",
              "  return _uploadFilesContinue(outputId);\n",
              "}\n",
              "\n",
              "// This is roughly an async generator (not supported in the browser yet),\n",
              "// where there are multiple asynchronous steps and the Python side is going\n",
              "// to poll for completion of each step.\n",
              "// This uses a Promise to block the python side on completion of each step,\n",
              "// then passes the result of the previous step as the input to the next step.\n",
              "function _uploadFilesContinue(outputId) {\n",
              "  const outputElement = document.getElementById(outputId);\n",
              "  const steps = outputElement.steps;\n",
              "\n",
              "  const next = steps.next(outputElement.lastPromiseValue);\n",
              "  return Promise.resolve(next.value.promise).then((value) => {\n",
              "    // Cache the last promise value to make it available to the next\n",
              "    // step of the generator.\n",
              "    outputElement.lastPromiseValue = value;\n",
              "    return next.value.response;\n",
              "  });\n",
              "}\n",
              "\n",
              "/**\n",
              " * Generator function which is called between each async step of the upload\n",
              " * process.\n",
              " * @param {string} inputId Element ID of the input file picker element.\n",
              " * @param {string} outputId Element ID of the output display.\n",
              " * @return {!Iterable<!Object>} Iterable of next steps.\n",
              " */\n",
              "function* uploadFilesStep(inputId, outputId) {\n",
              "  const inputElement = document.getElementById(inputId);\n",
              "  inputElement.disabled = false;\n",
              "\n",
              "  const outputElement = document.getElementById(outputId);\n",
              "  outputElement.innerHTML = '';\n",
              "\n",
              "  const pickedPromise = new Promise((resolve) => {\n",
              "    inputElement.addEventListener('change', (e) => {\n",
              "      resolve(e.target.files);\n",
              "    });\n",
              "  });\n",
              "\n",
              "  const cancel = document.createElement('button');\n",
              "  inputElement.parentElement.appendChild(cancel);\n",
              "  cancel.textContent = 'Cancel upload';\n",
              "  const cancelPromise = new Promise((resolve) => {\n",
              "    cancel.onclick = () => {\n",
              "      resolve(null);\n",
              "    };\n",
              "  });\n",
              "\n",
              "  // Wait for the user to pick the files.\n",
              "  const files = yield {\n",
              "    promise: Promise.race([pickedPromise, cancelPromise]),\n",
              "    response: {\n",
              "      action: 'starting',\n",
              "    }\n",
              "  };\n",
              "\n",
              "  cancel.remove();\n",
              "\n",
              "  // Disable the input element since further picks are not allowed.\n",
              "  inputElement.disabled = true;\n",
              "\n",
              "  if (!files) {\n",
              "    return {\n",
              "      response: {\n",
              "        action: 'complete',\n",
              "      }\n",
              "    };\n",
              "  }\n",
              "\n",
              "  for (const file of files) {\n",
              "    const li = document.createElement('li');\n",
              "    li.append(span(file.name, {fontWeight: 'bold'}));\n",
              "    li.append(span(\n",
              "        `(${file.type || 'n/a'}) - ${file.size} bytes, ` +\n",
              "        `last modified: ${\n",
              "            file.lastModifiedDate ? file.lastModifiedDate.toLocaleDateString() :\n",
              "                                    'n/a'} - `));\n",
              "    const percent = span('0% done');\n",
              "    li.appendChild(percent);\n",
              "\n",
              "    outputElement.appendChild(li);\n",
              "\n",
              "    const fileDataPromise = new Promise((resolve) => {\n",
              "      const reader = new FileReader();\n",
              "      reader.onload = (e) => {\n",
              "        resolve(e.target.result);\n",
              "      };\n",
              "      reader.readAsArrayBuffer(file);\n",
              "    });\n",
              "    // Wait for the data to be ready.\n",
              "    let fileData = yield {\n",
              "      promise: fileDataPromise,\n",
              "      response: {\n",
              "        action: 'continue',\n",
              "      }\n",
              "    };\n",
              "\n",
              "    // Use a chunked sending to avoid message size limits. See b/62115660.\n",
              "    let position = 0;\n",
              "    do {\n",
              "      const length = Math.min(fileData.byteLength - position, MAX_PAYLOAD_SIZE);\n",
              "      const chunk = new Uint8Array(fileData, position, length);\n",
              "      position += length;\n",
              "\n",
              "      const base64 = btoa(String.fromCharCode.apply(null, chunk));\n",
              "      yield {\n",
              "        response: {\n",
              "          action: 'append',\n",
              "          file: file.name,\n",
              "          data: base64,\n",
              "        },\n",
              "      };\n",
              "\n",
              "      let percentDone = fileData.byteLength === 0 ?\n",
              "          100 :\n",
              "          Math.round((position / fileData.byteLength) * 100);\n",
              "      percent.textContent = `${percentDone}% done`;\n",
              "\n",
              "    } while (position < fileData.byteLength);\n",
              "  }\n",
              "\n",
              "  // All done.\n",
              "  yield {\n",
              "    response: {\n",
              "      action: 'complete',\n",
              "    }\n",
              "  };\n",
              "}\n",
              "\n",
              "scope.google = scope.google || {};\n",
              "scope.google.colab = scope.google.colab || {};\n",
              "scope.google.colab._files = {\n",
              "  _uploadFiles,\n",
              "  _uploadFilesContinue,\n",
              "};\n",
              "})(self);\n",
              "</script> "
            ]
          },
          "metadata": {}
        },
        {
          "output_type": "stream",
          "name": "stdout",
          "text": [
            "Saving ushape.csv to ushape.csv\n"
          ]
        }
      ]
    },
    {
      "cell_type": "code",
      "source": [
        "df = pd.read_csv('ushape.csv')"
      ],
      "metadata": {
        "id": "TmO1l072UsJQ"
      },
      "execution_count": 3,
      "outputs": []
    },
    {
      "cell_type": "code",
      "source": [
        "df.head()"
      ],
      "metadata": {
        "colab": {
          "base_uri": "https://localhost:8080/",
          "height": 206
        },
        "id": "-4r9rpgYUu_8",
        "outputId": "18f42120-c2d8-4179-82d0-2ae1ea137f1b"
      },
      "execution_count": 4,
      "outputs": [
        {
          "output_type": "execute_result",
          "data": {
            "text/plain": [
              "        X       Y  class\n",
              "0  0.0316  0.9870    0.0\n",
              "1  2.1200 -0.0462    1.0\n",
              "2  0.8820 -0.0758    0.0\n",
              "3 -0.0551 -0.0373    1.0\n",
              "4  0.8300 -0.5390    1.0"
            ],
            "text/html": [
              "\n",
              "  <div id=\"df-ee103084-0075-4130-8467-7505baf0aeb4\" class=\"colab-df-container\">\n",
              "    <div>\n",
              "<style scoped>\n",
              "    .dataframe tbody tr th:only-of-type {\n",
              "        vertical-align: middle;\n",
              "    }\n",
              "\n",
              "    .dataframe tbody tr th {\n",
              "        vertical-align: top;\n",
              "    }\n",
              "\n",
              "    .dataframe thead th {\n",
              "        text-align: right;\n",
              "    }\n",
              "</style>\n",
              "<table border=\"1\" class=\"dataframe\">\n",
              "  <thead>\n",
              "    <tr style=\"text-align: right;\">\n",
              "      <th></th>\n",
              "      <th>X</th>\n",
              "      <th>Y</th>\n",
              "      <th>class</th>\n",
              "    </tr>\n",
              "  </thead>\n",
              "  <tbody>\n",
              "    <tr>\n",
              "      <th>0</th>\n",
              "      <td>0.0316</td>\n",
              "      <td>0.9870</td>\n",
              "      <td>0.0</td>\n",
              "    </tr>\n",
              "    <tr>\n",
              "      <th>1</th>\n",
              "      <td>2.1200</td>\n",
              "      <td>-0.0462</td>\n",
              "      <td>1.0</td>\n",
              "    </tr>\n",
              "    <tr>\n",
              "      <th>2</th>\n",
              "      <td>0.8820</td>\n",
              "      <td>-0.0758</td>\n",
              "      <td>0.0</td>\n",
              "    </tr>\n",
              "    <tr>\n",
              "      <th>3</th>\n",
              "      <td>-0.0551</td>\n",
              "      <td>-0.0373</td>\n",
              "      <td>1.0</td>\n",
              "    </tr>\n",
              "    <tr>\n",
              "      <th>4</th>\n",
              "      <td>0.8300</td>\n",
              "      <td>-0.5390</td>\n",
              "      <td>1.0</td>\n",
              "    </tr>\n",
              "  </tbody>\n",
              "</table>\n",
              "</div>\n",
              "    <div class=\"colab-df-buttons\">\n",
              "\n",
              "  <div class=\"colab-df-container\">\n",
              "    <button class=\"colab-df-convert\" onclick=\"convertToInteractive('df-ee103084-0075-4130-8467-7505baf0aeb4')\"\n",
              "            title=\"Convert this dataframe to an interactive table.\"\n",
              "            style=\"display:none;\">\n",
              "\n",
              "  <svg xmlns=\"http://www.w3.org/2000/svg\" height=\"24px\" viewBox=\"0 -960 960 960\">\n",
              "    <path d=\"M120-120v-720h720v720H120Zm60-500h600v-160H180v160Zm220 220h160v-160H400v160Zm0 220h160v-160H400v160ZM180-400h160v-160H180v160Zm440 0h160v-160H620v160ZM180-180h160v-160H180v160Zm440 0h160v-160H620v160Z\"/>\n",
              "  </svg>\n",
              "    </button>\n",
              "\n",
              "  <style>\n",
              "    .colab-df-container {\n",
              "      display:flex;\n",
              "      gap: 12px;\n",
              "    }\n",
              "\n",
              "    .colab-df-convert {\n",
              "      background-color: #E8F0FE;\n",
              "      border: none;\n",
              "      border-radius: 50%;\n",
              "      cursor: pointer;\n",
              "      display: none;\n",
              "      fill: #1967D2;\n",
              "      height: 32px;\n",
              "      padding: 0 0 0 0;\n",
              "      width: 32px;\n",
              "    }\n",
              "\n",
              "    .colab-df-convert:hover {\n",
              "      background-color: #E2EBFA;\n",
              "      box-shadow: 0px 1px 2px rgba(60, 64, 67, 0.3), 0px 1px 3px 1px rgba(60, 64, 67, 0.15);\n",
              "      fill: #174EA6;\n",
              "    }\n",
              "\n",
              "    .colab-df-buttons div {\n",
              "      margin-bottom: 4px;\n",
              "    }\n",
              "\n",
              "    [theme=dark] .colab-df-convert {\n",
              "      background-color: #3B4455;\n",
              "      fill: #D2E3FC;\n",
              "    }\n",
              "\n",
              "    [theme=dark] .colab-df-convert:hover {\n",
              "      background-color: #434B5C;\n",
              "      box-shadow: 0px 1px 3px 1px rgba(0, 0, 0, 0.15);\n",
              "      filter: drop-shadow(0px 1px 2px rgba(0, 0, 0, 0.3));\n",
              "      fill: #FFFFFF;\n",
              "    }\n",
              "  </style>\n",
              "\n",
              "    <script>\n",
              "      const buttonEl =\n",
              "        document.querySelector('#df-ee103084-0075-4130-8467-7505baf0aeb4 button.colab-df-convert');\n",
              "      buttonEl.style.display =\n",
              "        google.colab.kernel.accessAllowed ? 'block' : 'none';\n",
              "\n",
              "      async function convertToInteractive(key) {\n",
              "        const element = document.querySelector('#df-ee103084-0075-4130-8467-7505baf0aeb4');\n",
              "        const dataTable =\n",
              "          await google.colab.kernel.invokeFunction('convertToInteractive',\n",
              "                                                    [key], {});\n",
              "        if (!dataTable) return;\n",
              "\n",
              "        const docLinkHtml = 'Like what you see? Visit the ' +\n",
              "          '<a target=\"_blank\" href=https://colab.research.google.com/notebooks/data_table.ipynb>data table notebook</a>'\n",
              "          + ' to learn more about interactive tables.';\n",
              "        element.innerHTML = '';\n",
              "        dataTable['output_type'] = 'display_data';\n",
              "        await google.colab.output.renderOutput(dataTable, element);\n",
              "        const docLink = document.createElement('div');\n",
              "        docLink.innerHTML = docLinkHtml;\n",
              "        element.appendChild(docLink);\n",
              "      }\n",
              "    </script>\n",
              "  </div>\n",
              "\n",
              "\n",
              "<div id=\"df-d0c82207-44eb-4bf3-ab4b-649ee4554d69\">\n",
              "  <button class=\"colab-df-quickchart\" onclick=\"quickchart('df-d0c82207-44eb-4bf3-ab4b-649ee4554d69')\"\n",
              "            title=\"Suggest charts\"\n",
              "            style=\"display:none;\">\n",
              "\n",
              "<svg xmlns=\"http://www.w3.org/2000/svg\" height=\"24px\"viewBox=\"0 0 24 24\"\n",
              "     width=\"24px\">\n",
              "    <g>\n",
              "        <path d=\"M19 3H5c-1.1 0-2 .9-2 2v14c0 1.1.9 2 2 2h14c1.1 0 2-.9 2-2V5c0-1.1-.9-2-2-2zM9 17H7v-7h2v7zm4 0h-2V7h2v10zm4 0h-2v-4h2v4z\"/>\n",
              "    </g>\n",
              "</svg>\n",
              "  </button>\n",
              "\n",
              "<style>\n",
              "  .colab-df-quickchart {\n",
              "      --bg-color: #E8F0FE;\n",
              "      --fill-color: #1967D2;\n",
              "      --hover-bg-color: #E2EBFA;\n",
              "      --hover-fill-color: #174EA6;\n",
              "      --disabled-fill-color: #AAA;\n",
              "      --disabled-bg-color: #DDD;\n",
              "  }\n",
              "\n",
              "  [theme=dark] .colab-df-quickchart {\n",
              "      --bg-color: #3B4455;\n",
              "      --fill-color: #D2E3FC;\n",
              "      --hover-bg-color: #434B5C;\n",
              "      --hover-fill-color: #FFFFFF;\n",
              "      --disabled-bg-color: #3B4455;\n",
              "      --disabled-fill-color: #666;\n",
              "  }\n",
              "\n",
              "  .colab-df-quickchart {\n",
              "    background-color: var(--bg-color);\n",
              "    border: none;\n",
              "    border-radius: 50%;\n",
              "    cursor: pointer;\n",
              "    display: none;\n",
              "    fill: var(--fill-color);\n",
              "    height: 32px;\n",
              "    padding: 0;\n",
              "    width: 32px;\n",
              "  }\n",
              "\n",
              "  .colab-df-quickchart:hover {\n",
              "    background-color: var(--hover-bg-color);\n",
              "    box-shadow: 0 1px 2px rgba(60, 64, 67, 0.3), 0 1px 3px 1px rgba(60, 64, 67, 0.15);\n",
              "    fill: var(--button-hover-fill-color);\n",
              "  }\n",
              "\n",
              "  .colab-df-quickchart-complete:disabled,\n",
              "  .colab-df-quickchart-complete:disabled:hover {\n",
              "    background-color: var(--disabled-bg-color);\n",
              "    fill: var(--disabled-fill-color);\n",
              "    box-shadow: none;\n",
              "  }\n",
              "\n",
              "  .colab-df-spinner {\n",
              "    border: 2px solid var(--fill-color);\n",
              "    border-color: transparent;\n",
              "    border-bottom-color: var(--fill-color);\n",
              "    animation:\n",
              "      spin 1s steps(1) infinite;\n",
              "  }\n",
              "\n",
              "  @keyframes spin {\n",
              "    0% {\n",
              "      border-color: transparent;\n",
              "      border-bottom-color: var(--fill-color);\n",
              "      border-left-color: var(--fill-color);\n",
              "    }\n",
              "    20% {\n",
              "      border-color: transparent;\n",
              "      border-left-color: var(--fill-color);\n",
              "      border-top-color: var(--fill-color);\n",
              "    }\n",
              "    30% {\n",
              "      border-color: transparent;\n",
              "      border-left-color: var(--fill-color);\n",
              "      border-top-color: var(--fill-color);\n",
              "      border-right-color: var(--fill-color);\n",
              "    }\n",
              "    40% {\n",
              "      border-color: transparent;\n",
              "      border-right-color: var(--fill-color);\n",
              "      border-top-color: var(--fill-color);\n",
              "    }\n",
              "    60% {\n",
              "      border-color: transparent;\n",
              "      border-right-color: var(--fill-color);\n",
              "    }\n",
              "    80% {\n",
              "      border-color: transparent;\n",
              "      border-right-color: var(--fill-color);\n",
              "      border-bottom-color: var(--fill-color);\n",
              "    }\n",
              "    90% {\n",
              "      border-color: transparent;\n",
              "      border-bottom-color: var(--fill-color);\n",
              "    }\n",
              "  }\n",
              "</style>\n",
              "\n",
              "  <script>\n",
              "    async function quickchart(key) {\n",
              "      const quickchartButtonEl =\n",
              "        document.querySelector('#' + key + ' button');\n",
              "      quickchartButtonEl.disabled = true;  // To prevent multiple clicks.\n",
              "      quickchartButtonEl.classList.add('colab-df-spinner');\n",
              "      try {\n",
              "        const charts = await google.colab.kernel.invokeFunction(\n",
              "            'suggestCharts', [key], {});\n",
              "      } catch (error) {\n",
              "        console.error('Error during call to suggestCharts:', error);\n",
              "      }\n",
              "      quickchartButtonEl.classList.remove('colab-df-spinner');\n",
              "      quickchartButtonEl.classList.add('colab-df-quickchart-complete');\n",
              "    }\n",
              "    (() => {\n",
              "      let quickchartButtonEl =\n",
              "        document.querySelector('#df-d0c82207-44eb-4bf3-ab4b-649ee4554d69 button');\n",
              "      quickchartButtonEl.style.display =\n",
              "        google.colab.kernel.accessAllowed ? 'block' : 'none';\n",
              "    })();\n",
              "  </script>\n",
              "</div>\n",
              "\n",
              "    </div>\n",
              "  </div>\n"
            ],
            "application/vnd.google.colaboratory.intrinsic+json": {
              "type": "dataframe",
              "variable_name": "df",
              "summary": "{\n  \"name\": \"df\",\n  \"rows\": 100,\n  \"fields\": [\n    {\n      \"column\": \"X\",\n      \"properties\": {\n        \"dtype\": \"number\",\n        \"std\": 0.8912634114247283,\n        \"min\": -1.32,\n        \"max\": 2.18,\n        \"num_unique_values\": 97,\n        \"samples\": [\n          0.127,\n          1.52,\n          0.219\n        ],\n        \"semantic_type\": \"\",\n        \"description\": \"\"\n      }\n    },\n    {\n      \"column\": \"Y\",\n      \"properties\": {\n        \"dtype\": \"number\",\n        \"std\": 0.593023306337989,\n        \"min\": -1.04,\n        \"max\": 1.57,\n        \"num_unique_values\": 98,\n        \"samples\": [\n          -0.38,\n          -0.394,\n          -0.653\n        ],\n        \"semantic_type\": \"\",\n        \"description\": \"\"\n      }\n    },\n    {\n      \"column\": \"class\",\n      \"properties\": {\n        \"dtype\": \"number\",\n        \"std\": 0.502518907629606,\n        \"min\": 0.0,\n        \"max\": 1.0,\n        \"num_unique_values\": 2,\n        \"samples\": [\n          1.0,\n          0.0\n        ],\n        \"semantic_type\": \"\",\n        \"description\": \"\"\n      }\n    }\n  ]\n}"
            }
          },
          "metadata": {},
          "execution_count": 4
        }
      ]
    },
    {
      "cell_type": "code",
      "source": [
        "plt.scatter(df['X'],df['Y'],c=df['class'])"
      ],
      "metadata": {
        "colab": {
          "base_uri": "https://localhost:8080/",
          "height": 448
        },
        "id": "KVbkKlS-99gs",
        "outputId": "f8147ca6-09f8-4384-882e-3de20f024fcf"
      },
      "execution_count": 5,
      "outputs": [
        {
          "output_type": "execute_result",
          "data": {
            "text/plain": [
              "<matplotlib.collections.PathCollection at 0x7ff8631026e0>"
            ]
          },
          "metadata": {},
          "execution_count": 5
        },
        {
          "output_type": "display_data",
          "data": {
            "text/plain": [
              "<Figure size 640x480 with 1 Axes>"
            ],
            "image/png": "[encoded data removed]"
          },
          "metadata": {}
        }
      ]
    },
    {
      "cell_type": "code",
      "source": [
        "X = df.iloc[:,0:2].values\n",
        "y = df.iloc[:,-1].values"
      ],
      "metadata": {
        "id": "BPpZ6mRf9_qA"
      },
      "execution_count": 6,
      "outputs": []
    },
    {
      "cell_type": "code",
      "source": [
        "import tensorflow\n",
        "from tensorflow import keras\n",
        "from keras import Sequential\n",
        "from keras.layers import Dense"
      ],
      "metadata": {
        "id": "E13lMXmx-CDz"
      },
      "execution_count": 7,
      "outputs": []
    },
    {
      "cell_type": "code",
      "source": [
        "model_1 = Sequential()\n",
        "\n",
        "model_1.add(Dense(2,activation='relu',input_dim=2))\n",
        "model_1.add(Dense(1,activation='sigmoid'))\n",
        "\n",
        "model_1.summary()"
      ],
      "metadata": {
        "colab": {
          "base_uri": "https://localhost:8080/"
        },
        "id": "P_nzBqUm-Dns",
        "outputId": "0c469c01-f9de-4bef-97c1-a7c05c23c1b7"
      },
      "execution_count": 8,
      "outputs": [
        {
          "output_type": "stream",
          "name": "stdout",
          "text": [
            "Model: \"sequential\"\n",
            "_________________________________________________________________\n",
            " Layer (type)                Output Shape              Param #   \n",
            "=================================================================\n",
            " dense (Dense)               (None, 2)                 6         \n",
            "                                                                 \n",
            " dense_1 (Dense)             (None, 1)                 3         \n",
            "                                                                 \n",
            "=================================================================\n",
            "Total params: 9 (36.00 Byte)\n",
            "Trainable params: 9 (36.00 Byte)\n",
            "Non-trainable params: 0 (0.00 Byte)\n",
            "_________________________________________________________________\n"
          ]
        }
      ]
    },
    {
      "cell_type": "code",
      "source": [
        "model_1.get_weights()"
      ],
      "metadata": {
        "colab": {
          "base_uri": "https://localhost:8080/"
        },
        "id": "wXs48yrJ-GXs",
        "outputId": "67353c32-589f-469c-faab-5a55a2bcf835"
      },
      "execution_count": 9,
      "outputs": [
        {
          "output_type": "execute_result",
          "data": {
            "text/plain": [
              "[array([[-0.09549105,  0.4041716 ],\n",
              "        [-0.49170905,  0.46085   ]], dtype=float32),\n",
              " array([0., 0.], dtype=float32),\n",
              " array([[1.1287614 ],\n",
              "        [0.95299184]], dtype=float32),\n",
              " array([0.], dtype=float32)]"
            ]
          },
          "metadata": {},
          "execution_count": 9
        }
      ]
    },
    {
      "cell_type": "code",
      "source": [
        "initial_weights = model_1.get_weights()"
      ],
      "metadata": {
        "id": "yXrsB0yU-IYQ"
      },
      "execution_count": 10,
      "outputs": []
    },
    {
      "cell_type": "code",
      "source": [
        "# Set parameters to 0.5\n",
        "\n",
        "initial_weights[0] = np.ones(model_1.get_weights()[0].shape)*0.5\n",
        "initial_weights[1] = np.ones(model_1.get_weights()[1].shape)*0.5\n",
        "initial_weights[2] = np.ones(model_1.get_weights()[2].shape)*0.5\n",
        "initial_weights[3] = np.ones(model_1.get_weights()[3].shape)*0.5"
      ],
      "metadata": {
        "id": "pb-4D-yS-Liy"
      },
      "execution_count": 12,
      "outputs": []
    },
    {
      "cell_type": "code",
      "source": [
        "model_1.set_weights(initial_weights)"
      ],
      "metadata": {
        "id": "KwJ0w-tV-M-_"
      },
      "execution_count": 13,
      "outputs": []
    },
    {
      "cell_type": "code",
      "source": [
        "model_1.get_weights()"
      ],
      "metadata": {
        "colab": {
          "base_uri": "https://localhost:8080/"
        },
        "id": "IAE0Z2tQ-OiD",
        "outputId": "d5ac450c-c7b2-45b8-d200-ffd715aa6f98"
      },
      "execution_count": 14,
      "outputs": [
        {
          "output_type": "execute_result",
          "data": {
            "text/plain": [
              "[array([[0.5, 0.5],\n",
              "        [0.5, 0.5]], dtype=float32),\n",
              " array([0.5, 0.5], dtype=float32),\n",
              " array([[0.5],\n",
              "        [0.5]], dtype=float32),\n",
              " array([0.5], dtype=float32)]"
            ]
          },
          "metadata": {},
          "execution_count": 14
        }
      ]
    },
    {
      "cell_type": "code",
      "source": [
        "model_1.compile(loss='binary_crossentropy',optimizer='adam',metrics=['accuracy'])"
      ],
      "metadata": {
        "id": "3KK0NrQv-QEb"
      },
      "execution_count": 15,
      "outputs": []
    },
    {
      "cell_type": "code",
      "source": [
        "history = model_1.fit(X,y,epochs=100,validation_split=0.2)"
      ],
      "metadata": {
        "colab": {
          "base_uri": "https://localhost:8080/"
        },
        "id": "afeyldW8-SBH",
        "outputId": "09a7188e-0b49-448e-820f-276217c0a166"
      },
      "execution_count": 16,
      "outputs": [
        {
          "output_type": "stream",
          "name": "stdout",
          "text": [
            "Epoch 1/100\n",
            "3/3 [==============================] - 1s 174ms/step - loss: 0.9315 - accuracy: 0.5000 - val_loss: 0.8206 - val_accuracy: 0.5000\n",
            "Epoch 2/100\n",
            "3/3 [==============================] - 0s 36ms/step - loss: 0.9273 - accuracy: 0.5000 - val_loss: 0.8177 - val_accuracy: 0.5000\n",
            "Epoch 3/100\n",
            "3/3 [==============================] - 0s 31ms/step - loss: 0.9232 - accuracy: 0.5000 - val_loss: 0.8148 - val_accuracy: 0.5000\n",
            "Epoch 4/100\n",
            "3/3 [==============================] - 0s 24ms/step - loss: 0.9193 - accuracy: 0.5000 - val_loss: 0.8120 - val_accuracy: 0.5000\n",
            "Epoch 5/100\n",
            "3/3 [==============================] - 0s 39ms/step - loss: 0.9156 - accuracy: 0.5000 - val_loss: 0.8092 - val_accuracy: 0.5000\n",
            "Epoch 6/100\n",
            "3/3 [==============================] - 0s 34ms/step - loss: 0.9113 - accuracy: 0.5000 - val_loss: 0.8064 - val_accuracy: 0.5000\n",
            "Epoch 7/100\n",
            "3/3 [==============================] - 0s 38ms/step - loss: 0.9076 - accuracy: 0.5000 - val_loss: 0.8036 - val_accuracy: 0.5000\n",
            "Epoch 8/100\n",
            "3/3 [==============================] - 0s 35ms/step - loss: 0.9039 - accuracy: 0.5000 - val_loss: 0.8009 - val_accuracy: 0.5000\n",
            "Epoch 9/100\n",
            "3/3 [==============================] - 0s 36ms/step - loss: 0.8999 - accuracy: 0.5000 - val_loss: 0.7982 - val_accuracy: 0.5000\n",
            "Epoch 10/100\n",
            "3/3 [==============================] - 0s 31ms/step - loss: 0.8962 - accuracy: 0.5000 - val_loss: 0.7956 - val_accuracy: 0.5000\n",
            "Epoch 11/100\n",
            "3/3 [==============================] - 0s 40ms/step - loss: 0.8923 - accuracy: 0.5000 - val_loss: 0.7930 - val_accuracy: 0.5000\n",
            "Epoch 12/100\n",
            "3/3 [==============================] - 0s 29ms/step - loss: 0.8891 - accuracy: 0.5000 - val_loss: 0.7904 - val_accuracy: 0.5000\n",
            "Epoch 13/100\n",
            "3/3 [==============================] - 0s 28ms/step - loss: 0.8854 - accuracy: 0.5000 - val_loss: 0.7879 - val_accuracy: 0.5000\n",
            "Epoch 14/100\n",
            "3/3 [==============================] - 0s 33ms/step - loss: 0.8814 - accuracy: 0.5000 - val_loss: 0.7855 - val_accuracy: 0.5000\n",
            "Epoch 15/100\n",
            "3/3 [==============================] - 0s 33ms/step - loss: 0.8786 - accuracy: 0.5000 - val_loss: 0.7831 - val_accuracy: 0.5000\n",
            "Epoch 16/100\n",
            "3/3 [==============================] - 0s 35ms/step - loss: 0.8746 - accuracy: 0.5000 - val_loss: 0.7809 - val_accuracy: 0.5000\n",
            "Epoch 17/100\n",
            "3/3 [==============================] - 0s 19ms/step - loss: 0.8715 - accuracy: 0.5000 - val_loss: 0.7786 - val_accuracy: 0.5000\n",
            "Epoch 18/100\n",
            "3/3 [==============================] - 0s 18ms/step - loss: 0.8682 - accuracy: 0.5000 - val_loss: 0.7764 - val_accuracy: 0.5000\n",
            "Epoch 19/100\n",
            "3/3 [==============================] - 0s 17ms/step - loss: 0.8647 - accuracy: 0.5000 - val_loss: 0.7742 - val_accuracy: 0.5000\n",
            "Epoch 20/100\n",
            "3/3 [==============================] - 0s 17ms/step - loss: 0.8615 - accuracy: 0.5000 - val_loss: 0.7720 - val_accuracy: 0.5000\n",
            "Epoch 21/100\n",
            "3/3 [==============================] - 0s 16ms/step - loss: 0.8582 - accuracy: 0.5000 - val_loss: 0.7699 - val_accuracy: 0.5000\n",
            "Epoch 22/100\n",
            "3/3 [==============================] - 0s 18ms/step - loss: 0.8552 - accuracy: 0.5000 - val_loss: 0.7677 - val_accuracy: 0.5000\n",
            "Epoch 23/100\n",
            "3/3 [==============================] - 0s 18ms/step - loss: 0.8520 - accuracy: 0.5000 - val_loss: 0.7656 - val_accuracy: 0.5000\n",
            "Epoch 24/100\n",
            "3/3 [==============================] - 0s 17ms/step - loss: 0.8492 - accuracy: 0.5000 - val_loss: 0.7636 - val_accuracy: 0.5000\n",
            "Epoch 25/100\n",
            "3/3 [==============================] - 0s 18ms/step - loss: 0.8456 - accuracy: 0.5000 - val_loss: 0.7617 - val_accuracy: 0.5000\n",
            "Epoch 26/100\n",
            "3/3 [==============================] - 0s 17ms/step - loss: 0.8428 - accuracy: 0.5000 - val_loss: 0.7598 - val_accuracy: 0.5000\n",
            "Epoch 27/100\n",
            "3/3 [==============================] - 0s 17ms/step - loss: 0.8401 - accuracy: 0.5000 - val_loss: 0.7579 - val_accuracy: 0.5000\n",
            "Epoch 28/100\n",
            "3/3 [==============================] - 0s 16ms/step - loss: 0.8373 - accuracy: 0.5000 - val_loss: 0.7560 - val_accuracy: 0.5000\n",
            "Epoch 29/100\n",
            "3/3 [==============================] - 0s 17ms/step - loss: 0.8344 - accuracy: 0.5000 - val_loss: 0.7542 - val_accuracy: 0.5000\n",
            "Epoch 30/100\n",
            "3/3 [==============================] - 0s 30ms/step - loss: 0.8318 - accuracy: 0.5000 - val_loss: 0.7523 - val_accuracy: 0.5000\n",
            "Epoch 31/100\n",
            "3/3 [==============================] - 0s 16ms/step - loss: 0.8289 - accuracy: 0.5000 - val_loss: 0.7505 - val_accuracy: 0.5000\n",
            "Epoch 32/100\n",
            "3/3 [==============================] - 0s 16ms/step - loss: 0.8264 - accuracy: 0.5000 - val_loss: 0.7488 - val_accuracy: 0.5000\n",
            "Epoch 33/100\n",
            "3/3 [==============================] - 0s 17ms/step - loss: 0.8234 - accuracy: 0.5000 - val_loss: 0.7471 - val_accuracy: 0.5000\n",
            "Epoch 34/100\n",
            "3/3 [==============================] - 0s 17ms/step - loss: 0.8212 - accuracy: 0.5000 - val_loss: 0.7454 - val_accuracy: 0.5000\n",
            "Epoch 35/100\n",
            "3/3 [==============================] - 0s 18ms/step - loss: 0.8187 - accuracy: 0.5000 - val_loss: 0.7437 - val_accuracy: 0.5000\n",
            "Epoch 36/100\n",
            "3/3 [==============================] - 0s 18ms/step - loss: 0.8164 - accuracy: 0.5000 - val_loss: 0.7421 - val_accuracy: 0.5000\n",
            "Epoch 37/100\n",
            "3/3 [==============================] - 0s 17ms/step - loss: 0.8138 - accuracy: 0.5000 - val_loss: 0.7406 - val_accuracy: 0.5000\n",
            "Epoch 38/100\n",
            "3/3 [==============================] - 0s 16ms/step - loss: 0.8113 - accuracy: 0.5000 - val_loss: 0.7390 - val_accuracy: 0.5000\n",
            "Epoch 39/100\n",
            "3/3 [==============================] - 0s 16ms/step - loss: 0.8094 - accuracy: 0.5000 - val_loss: 0.7375 - val_accuracy: 0.5000\n",
            "Epoch 40/100\n",
            "3/3 [==============================] - 0s 17ms/step - loss: 0.8070 - accuracy: 0.5000 - val_loss: 0.7360 - val_accuracy: 0.5000\n",
            "Epoch 41/100\n",
            "3/3 [==============================] - 0s 17ms/step - loss: 0.8049 - accuracy: 0.5000 - val_loss: 0.7345 - val_accuracy: 0.5000\n",
            "Epoch 42/100\n",
            "3/3 [==============================] - 0s 17ms/step - loss: 0.8026 - accuracy: 0.5000 - val_loss: 0.7331 - val_accuracy: 0.5000\n",
            "Epoch 43/100\n",
            "3/3 [==============================] - 0s 28ms/step - loss: 0.8007 - accuracy: 0.5000 - val_loss: 0.7317 - val_accuracy: 0.5000\n",
            "Epoch 44/100\n",
            "3/3 [==============================] - 0s 18ms/step - loss: 0.7985 - accuracy: 0.5000 - val_loss: 0.7303 - val_accuracy: 0.5000\n",
            "Epoch 45/100\n",
            "3/3 [==============================] - 0s 17ms/step - loss: 0.7964 - accuracy: 0.5000 - val_loss: 0.7290 - val_accuracy: 0.5000\n",
            "Epoch 46/100\n",
            "3/3 [==============================] - 0s 18ms/step - loss: 0.7943 - accuracy: 0.5000 - val_loss: 0.7277 - val_accuracy: 0.5000\n",
            "Epoch 47/100\n",
            "3/3 [==============================] - 0s 17ms/step - loss: 0.7925 - accuracy: 0.5000 - val_loss: 0.7264 - val_accuracy: 0.5000\n",
            "Epoch 48/100\n",
            "3/3 [==============================] - 0s 20ms/step - loss: 0.7903 - accuracy: 0.5000 - val_loss: 0.7251 - val_accuracy: 0.5000\n",
            "Epoch 49/100\n",
            "3/3 [==============================] - 0s 16ms/step - loss: 0.7885 - accuracy: 0.5000 - val_loss: 0.7238 - val_accuracy: 0.5000\n",
            "Epoch 50/100\n",
            "3/3 [==============================] - 0s 17ms/step - loss: 0.7866 - accuracy: 0.5000 - val_loss: 0.7226 - val_accuracy: 0.5000\n",
            "Epoch 51/100\n",
            "3/3 [==============================] - 0s 22ms/step - loss: 0.7848 - accuracy: 0.5000 - val_loss: 0.7213 - val_accuracy: 0.5000\n",
            "Epoch 52/100\n",
            "3/3 [==============================] - 0s 20ms/step - loss: 0.7830 - accuracy: 0.5000 - val_loss: 0.7201 - val_accuracy: 0.5000\n",
            "Epoch 53/100\n",
            "3/3 [==============================] - 0s 17ms/step - loss: 0.7812 - accuracy: 0.5000 - val_loss: 0.7189 - val_accuracy: 0.5000\n",
            "Epoch 54/100\n",
            "3/3 [==============================] - 0s 17ms/step - loss: 0.7794 - accuracy: 0.5000 - val_loss: 0.7177 - val_accuracy: 0.5000\n",
            "Epoch 55/100\n",
            "3/3 [==============================] - 0s 16ms/step - loss: 0.7775 - accuracy: 0.5000 - val_loss: 0.7165 - val_accuracy: 0.5000\n",
            "Epoch 56/100\n",
            "3/3 [==============================] - 0s 18ms/step - loss: 0.7758 - accuracy: 0.5000 - val_loss: 0.7154 - val_accuracy: 0.5000\n",
            "Epoch 57/100\n",
            "3/3 [==============================] - 0s 18ms/step - loss: 0.7741 - accuracy: 0.5000 - val_loss: 0.7143 - val_accuracy: 0.5000\n",
            "Epoch 58/100\n",
            "3/3 [==============================] - 0s 18ms/step - loss: 0.7724 - accuracy: 0.5000 - val_loss: 0.7132 - val_accuracy: 0.5000\n",
            "Epoch 59/100\n",
            "3/3 [==============================] - 0s 17ms/step - loss: 0.7707 - accuracy: 0.5000 - val_loss: 0.7120 - val_accuracy: 0.5000\n",
            "Epoch 60/100\n",
            "3/3 [==============================] - 0s 19ms/step - loss: 0.7693 - accuracy: 0.5000 - val_loss: 0.7109 - val_accuracy: 0.5000\n",
            "Epoch 61/100\n",
            "3/3 [==============================] - 0s 17ms/step - loss: 0.7673 - accuracy: 0.5000 - val_loss: 0.7099 - val_accuracy: 0.5000\n",
            "Epoch 62/100\n",
            "3/3 [==============================] - 0s 17ms/step - loss: 0.7659 - accuracy: 0.5000 - val_loss: 0.7088 - val_accuracy: 0.5000\n",
            "Epoch 63/100\n",
            "3/3 [==============================] - 0s 16ms/step - loss: 0.7643 - accuracy: 0.5000 - val_loss: 0.7077 - val_accuracy: 0.5000\n",
            "Epoch 64/100\n",
            "3/3 [==============================] - 0s 17ms/step - loss: 0.7628 - accuracy: 0.5000 - val_loss: 0.7067 - val_accuracy: 0.5000\n",
            "Epoch 65/100\n",
            "3/3 [==============================] - 0s 16ms/step - loss: 0.7613 - accuracy: 0.5000 - val_loss: 0.7056 - val_accuracy: 0.5000\n",
            "Epoch 66/100\n",
            "3/3 [==============================] - 0s 18ms/step - loss: 0.7596 - accuracy: 0.5000 - val_loss: 0.7046 - val_accuracy: 0.5000\n",
            "Epoch 67/100\n",
            "3/3 [==============================] - 0s 18ms/step - loss: 0.7582 - accuracy: 0.5000 - val_loss: 0.7036 - val_accuracy: 0.5000\n",
            "Epoch 68/100\n",
            "3/3 [==============================] - 0s 19ms/step - loss: 0.7568 - accuracy: 0.5000 - val_loss: 0.7026 - val_accuracy: 0.5000\n",
            "Epoch 69/100\n",
            "3/3 [==============================] - 0s 20ms/step - loss: 0.7554 - accuracy: 0.5000 - val_loss: 0.7017 - val_accuracy: 0.5000\n",
            "Epoch 70/100\n",
            "3/3 [==============================] - 0s 17ms/step - loss: 0.7539 - accuracy: 0.5000 - val_loss: 0.7007 - val_accuracy: 0.5000\n",
            "Epoch 71/100\n",
            "3/3 [==============================] - 0s 26ms/step - loss: 0.7526 - accuracy: 0.5000 - val_loss: 0.6998 - val_accuracy: 0.5000\n",
            "Epoch 72/100\n",
            "3/3 [==============================] - 0s 18ms/step - loss: 0.7514 - accuracy: 0.5000 - val_loss: 0.6989 - val_accuracy: 0.5000\n",
            "Epoch 73/100\n",
            "3/3 [==============================] - 0s 27ms/step - loss: 0.7498 - accuracy: 0.5000 - val_loss: 0.6980 - val_accuracy: 0.5000\n",
            "Epoch 74/100\n",
            "3/3 [==============================] - 0s 30ms/step - loss: 0.7486 - accuracy: 0.5000 - val_loss: 0.6971 - val_accuracy: 0.5000\n",
            "Epoch 75/100\n",
            "3/3 [==============================] - 0s 20ms/step - loss: 0.7473 - accuracy: 0.5000 - val_loss: 0.6962 - val_accuracy: 0.5000\n",
            "Epoch 76/100\n",
            "3/3 [==============================] - 0s 20ms/step - loss: 0.7461 - accuracy: 0.5000 - val_loss: 0.6953 - val_accuracy: 0.5000\n",
            "Epoch 77/100\n",
            "3/3 [==============================] - 0s 20ms/step - loss: 0.7448 - accuracy: 0.5000 - val_loss: 0.6945 - val_accuracy: 0.5000\n",
            "Epoch 78/100\n",
            "3/3 [==============================] - 0s 28ms/step - loss: 0.7436 - accuracy: 0.5000 - val_loss: 0.6936 - val_accuracy: 0.5000\n",
            "Epoch 79/100\n",
            "3/3 [==============================] - 0s 19ms/step - loss: 0.7424 - accuracy: 0.5000 - val_loss: 0.6928 - val_accuracy: 0.5000\n",
            "Epoch 80/100\n",
            "3/3 [==============================] - 0s 19ms/step - loss: 0.7412 - accuracy: 0.5000 - val_loss: 0.6920 - val_accuracy: 0.5000\n",
            "Epoch 81/100\n",
            "3/3 [==============================] - 0s 20ms/step - loss: 0.7402 - accuracy: 0.5000 - val_loss: 0.6912 - val_accuracy: 0.5000\n",
            "Epoch 82/100\n",
            "3/3 [==============================] - 0s 19ms/step - loss: 0.7390 - accuracy: 0.5000 - val_loss: 0.6904 - val_accuracy: 0.5000\n",
            "Epoch 83/100\n",
            "3/3 [==============================] - 0s 29ms/step - loss: 0.7378 - accuracy: 0.5000 - val_loss: 0.6895 - val_accuracy: 0.5000\n",
            "Epoch 84/100\n",
            "3/3 [==============================] - 0s 21ms/step - loss: 0.7366 - accuracy: 0.5000 - val_loss: 0.6888 - val_accuracy: 0.5000\n",
            "Epoch 85/100\n",
            "3/3 [==============================] - 0s 30ms/step - loss: 0.7354 - accuracy: 0.5000 - val_loss: 0.6880 - val_accuracy: 0.5000\n",
            "Epoch 86/100\n",
            "3/3 [==============================] - 0s 28ms/step - loss: 0.7342 - accuracy: 0.5000 - val_loss: 0.6872 - val_accuracy: 0.5000\n",
            "Epoch 87/100\n",
            "3/3 [==============================] - 0s 27ms/step - loss: 0.7332 - accuracy: 0.5000 - val_loss: 0.6864 - val_accuracy: 0.5000\n",
            "Epoch 88/100\n",
            "3/3 [==============================] - 0s 19ms/step - loss: 0.7321 - accuracy: 0.5000 - val_loss: 0.6856 - val_accuracy: 0.5000\n",
            "Epoch 89/100\n",
            "3/3 [==============================] - 0s 22ms/step - loss: 0.7309 - accuracy: 0.5000 - val_loss: 0.6850 - val_accuracy: 0.5000\n",
            "Epoch 90/100\n",
            "3/3 [==============================] - 0s 30ms/step - loss: 0.7298 - accuracy: 0.5000 - val_loss: 0.6843 - val_accuracy: 0.5000\n",
            "Epoch 91/100\n",
            "3/3 [==============================] - 0s 24ms/step - loss: 0.7288 - accuracy: 0.5000 - val_loss: 0.6836 - val_accuracy: 0.5000\n",
            "Epoch 92/100\n",
            "3/3 [==============================] - 0s 30ms/step - loss: 0.7278 - accuracy: 0.5000 - val_loss: 0.6829 - val_accuracy: 0.5000\n",
            "Epoch 93/100\n",
            "3/3 [==============================] - 0s 20ms/step - loss: 0.7267 - accuracy: 0.5000 - val_loss: 0.6823 - val_accuracy: 0.5000\n",
            "Epoch 94/100\n",
            "3/3 [==============================] - 0s 20ms/step - loss: 0.7257 - accuracy: 0.5000 - val_loss: 0.6817 - val_accuracy: 0.5000\n",
            "Epoch 95/100\n",
            "3/3 [==============================] - 0s 21ms/step - loss: 0.7247 - accuracy: 0.5000 - val_loss: 0.6811 - val_accuracy: 0.5000\n",
            "Epoch 96/100\n",
            "3/3 [==============================] - 0s 20ms/step - loss: 0.7238 - accuracy: 0.5000 - val_loss: 0.6805 - val_accuracy: 0.5000\n",
            "Epoch 97/100\n",
            "3/3 [==============================] - 0s 20ms/step - loss: 0.7228 - accuracy: 0.5000 - val_loss: 0.6798 - val_accuracy: 0.5000\n",
            "Epoch 98/100\n",
            "3/3 [==============================] - 0s 24ms/step - loss: 0.7219 - accuracy: 0.5000 - val_loss: 0.6792 - val_accuracy: 0.5000\n",
            "Epoch 99/100\n",
            "3/3 [==============================] - 0s 20ms/step - loss: 0.7209 - accuracy: 0.5000 - val_loss: 0.6786 - val_accuracy: 0.5000\n",
            "Epoch 100/100\n",
            "3/3 [==============================] - 0s 21ms/step - loss: 0.7199 - accuracy: 0.5000 - val_loss: 0.6780 - val_accuracy: 0.5000\n"
          ]
        }
      ]
    },
    {
      "cell_type": "code",
      "source": [
        "model_1.get_weights()"
      ],
      "metadata": {
        "colab": {
          "base_uri": "https://localhost:8080/"
        },
        "id": "alDP-R1EmZbp",
        "outputId": "ed7b0a02-96ed-413d-937c-27c5abbf15d1"
      },
      "execution_count": 18,
      "outputs": [
        {
          "output_type": "execute_result",
          "data": {
            "text/plain": [
              "[array([[0.53566194, 0.53566194],\n",
              "        [0.25189996, 0.25189996]], dtype=float32),\n",
              " array([0.30152038, 0.30152038], dtype=float32),\n",
              " array([[0.28995726],\n",
              "        [0.28995726]], dtype=float32),\n",
              " array([0.25160766], dtype=float32)]"
            ]
          },
          "metadata": {},
          "execution_count": 18
        }
      ]
    },
    {
      "cell_type": "code",
      "source": [
        "from mlxtend.plotting import plot_decision_regions\n",
        "plot_decision_regions(X,y.astype('int'), clf=model_1, legend=2)"
      ],
      "metadata": {
        "colab": {
          "base_uri": "https://localhost:8080/",
          "height": 466
        },
        "id": "hHVMCQQ8-W7b",
        "outputId": "d273e963-9dab-4daf-87cf-dd031f9ee475"
      },
      "execution_count": 19,
      "outputs": [
        {
          "output_type": "stream",
          "name": "stdout",
          "text": [
            "9600/9600 [==============================] - 13s 1ms/step\n"
          ]
        },
        {
          "output_type": "execute_result",
          "data": {
            "text/plain": [
              "<Axes: >"
            ]
          },
          "metadata": {},
          "execution_count": 19
        },
        {
          "output_type": "display_data",
          "data": {
            "text/plain": [
              "<Figure size 640x480 with 1 Axes>"
            ],
            "image/png": "[encoded data removed]"
          },
          "metadata": {}
        }
      ]
    },
    {
      "cell_type": "code",
      "source": [
        "model_2 = Sequential()\n",
        "\n",
        "model_2.add(Dense(2,activation='tanh',input_dim=2))\n",
        "model_2.add(Dense(1,activation='sigmoid'))\n",
        "\n",
        "model_2.summary()"
      ],
      "metadata": {
        "colab": {
          "base_uri": "https://localhost:8080/"
        },
        "outputId": "b3ab3de0-7e43-4e89-ab6a-3d28293e3387",
        "id": "nhmK_mqiYYhI"
      },
      "execution_count": 20,
      "outputs": [
        {
          "output_type": "stream",
          "name": "stdout",
          "text": [
            "Model: \"sequential_1\"\n",
            "_________________________________________________________________\n",
            " Layer (type)                Output Shape              Param #   \n",
            "=================================================================\n",
            " dense_2 (Dense)             (None, 2)                 6         \n",
            "                                                                 \n",
            " dense_3 (Dense)             (None, 1)                 3         \n",
            "                                                                 \n",
            "=================================================================\n",
            "Total params: 9 (36.00 Byte)\n",
            "Trainable params: 9 (36.00 Byte)\n",
            "Non-trainable params: 0 (0.00 Byte)\n",
            "_________________________________________________________________\n"
          ]
        }
      ]
    },
    {
      "cell_type": "code",
      "source": [
        "model_2.get_weights()"
      ],
      "metadata": {
        "colab": {
          "base_uri": "https://localhost:8080/"
        },
        "outputId": "98998050-1b8e-44a4-f2a8-588ebaf27b79",
        "id": "nJqw8zubYYhI"
      },
      "execution_count": 21,
      "outputs": [
        {
          "output_type": "execute_result",
          "data": {
            "text/plain": [
              "[array([[-0.08639896, -0.8951635 ],\n",
              "        [ 0.97675025,  0.68129575]], dtype=float32),\n",
              " array([0., 0.], dtype=float32),\n",
              " array([[0.9475862],\n",
              "        [0.8980304]], dtype=float32),\n",
              " array([0.], dtype=float32)]"
            ]
          },
          "metadata": {},
          "execution_count": 21
        }
      ]
    },
    {
      "cell_type": "code",
      "source": [
        "initial_weights = model_2.get_weights()"
      ],
      "metadata": {
        "id": "hJc146kRYYhI"
      },
      "execution_count": 22,
      "outputs": []
    },
    {
      "cell_type": "code",
      "source": [
        "# Set parameters to 0.5\n",
        "\n",
        "initial_weights[0] = np.ones(model_2.get_weights()[0].shape)*0.5\n",
        "initial_weights[1] = np.ones(model_2.get_weights()[1].shape)*0.5\n",
        "initial_weights[2] = np.ones(model_2.get_weights()[2].shape)*0.5\n",
        "initial_weights[3] = np.ones(model_2.get_weights()[3].shape)*0.5"
      ],
      "metadata": {
        "id": "qk-UP5MPYYhI"
      },
      "execution_count": 23,
      "outputs": []
    },
    {
      "cell_type": "code",
      "source": [
        "model_2.set_weights(initial_weights)"
      ],
      "metadata": {
        "id": "hTFZ2XTRYYhI"
      },
      "execution_count": 24,
      "outputs": []
    },
    {
      "cell_type": "code",
      "source": [
        "model_2.get_weights()"
      ],
      "metadata": {
        "colab": {
          "base_uri": "https://localhost:8080/"
        },
        "outputId": "38d76d94-1f36-4cd1-e1b6-4b87f42acfb6",
        "id": "TBBVbKmqYYhJ"
      },
      "execution_count": 25,
      "outputs": [
        {
          "output_type": "execute_result",
          "data": {
            "text/plain": [
              "[array([[0.5, 0.5],\n",
              "        [0.5, 0.5]], dtype=float32),\n",
              " array([0.5, 0.5], dtype=float32),\n",
              " array([[0.5],\n",
              "        [0.5]], dtype=float32),\n",
              " array([0.5], dtype=float32)]"
            ]
          },
          "metadata": {},
          "execution_count": 25
        }
      ]
    },
    {
      "cell_type": "code",
      "source": [
        "model_2.compile(loss='binary_crossentropy',optimizer='adam',metrics=['accuracy'])"
      ],
      "metadata": {
        "id": "T6yfiv3EYYhJ"
      },
      "execution_count": 26,
      "outputs": []
    },
    {
      "cell_type": "code",
      "source": [
        "history = model_2.fit(X,y,epochs=100,validation_split=0.2)"
      ],
      "metadata": {
        "colab": {
          "base_uri": "https://localhost:8080/"
        },
        "outputId": "19d493be-f12e-4a66-8ec2-d2465431c506",
        "id": "apSRGtY6YYhJ"
      },
      "execution_count": 27,
      "outputs": [
        {
          "output_type": "stream",
          "name": "stdout",
          "text": [
            "Epoch 1/100\n",
            "3/3 [==============================] - 3s 151ms/step - loss: 0.8523 - accuracy: 0.5000 - val_loss: 0.7754 - val_accuracy: 0.5000\n",
            "Epoch 2/100\n",
            "3/3 [==============================] - 0s 17ms/step - loss: 0.8498 - accuracy: 0.5000 - val_loss: 0.7730 - val_accuracy: 0.5000\n",
            "Epoch 3/100\n",
            "3/3 [==============================] - 0s 17ms/step - loss: 0.8473 - accuracy: 0.5000 - val_loss: 0.7706 - val_accuracy: 0.5000\n",
            "Epoch 4/100\n",
            "3/3 [==============================] - 0s 17ms/step - loss: 0.8448 - accuracy: 0.5000 - val_loss: 0.7681 - val_accuracy: 0.5000\n",
            "Epoch 5/100\n",
            "3/3 [==============================] - 0s 18ms/step - loss: 0.8425 - accuracy: 0.5000 - val_loss: 0.7657 - val_accuracy: 0.5000\n",
            "Epoch 6/100\n",
            "3/3 [==============================] - 0s 19ms/step - loss: 0.8398 - accuracy: 0.5000 - val_loss: 0.7634 - val_accuracy: 0.5000\n",
            "Epoch 7/100\n",
            "3/3 [==============================] - 0s 17ms/step - loss: 0.8375 - accuracy: 0.5000 - val_loss: 0.7610 - val_accuracy: 0.5000\n",
            "Epoch 8/100\n",
            "3/3 [==============================] - 0s 17ms/step - loss: 0.8353 - accuracy: 0.5000 - val_loss: 0.7587 - val_accuracy: 0.5000\n",
            "Epoch 9/100\n",
            "3/3 [==============================] - 0s 18ms/step - loss: 0.8328 - accuracy: 0.5000 - val_loss: 0.7564 - val_accuracy: 0.5000\n",
            "Epoch 10/100\n",
            "3/3 [==============================] - 0s 18ms/step - loss: 0.8305 - accuracy: 0.5000 - val_loss: 0.7541 - val_accuracy: 0.5000\n",
            "Epoch 11/100\n",
            "3/3 [==============================] - 0s 17ms/step - loss: 0.8283 - accuracy: 0.5000 - val_loss: 0.7519 - val_accuracy: 0.5000\n",
            "Epoch 12/100\n",
            "3/3 [==============================] - 0s 17ms/step - loss: 0.8259 - accuracy: 0.5000 - val_loss: 0.7497 - val_accuracy: 0.5000\n",
            "Epoch 13/100\n",
            "3/3 [==============================] - 0s 19ms/step - loss: 0.8236 - accuracy: 0.5000 - val_loss: 0.7475 - val_accuracy: 0.5000\n",
            "Epoch 14/100\n",
            "3/3 [==============================] - 0s 17ms/step - loss: 0.8216 - accuracy: 0.5000 - val_loss: 0.7454 - val_accuracy: 0.5000\n",
            "Epoch 15/100\n",
            "3/3 [==============================] - 0s 20ms/step - loss: 0.8192 - accuracy: 0.5000 - val_loss: 0.7434 - val_accuracy: 0.5000\n",
            "Epoch 16/100\n",
            "3/3 [==============================] - 0s 29ms/step - loss: 0.8173 - accuracy: 0.5000 - val_loss: 0.7413 - val_accuracy: 0.5000\n",
            "Epoch 17/100\n",
            "3/3 [==============================] - 0s 18ms/step - loss: 0.8149 - accuracy: 0.5000 - val_loss: 0.7393 - val_accuracy: 0.5000\n",
            "Epoch 18/100\n",
            "3/3 [==============================] - 0s 26ms/step - loss: 0.8129 - accuracy: 0.5000 - val_loss: 0.7373 - val_accuracy: 0.5000\n",
            "Epoch 19/100\n",
            "3/3 [==============================] - 0s 27ms/step - loss: 0.8108 - accuracy: 0.5000 - val_loss: 0.7353 - val_accuracy: 0.5000\n",
            "Epoch 20/100\n",
            "3/3 [==============================] - 0s 17ms/step - loss: 0.8087 - accuracy: 0.5000 - val_loss: 0.7333 - val_accuracy: 0.5000\n",
            "Epoch 21/100\n",
            "3/3 [==============================] - 0s 18ms/step - loss: 0.8067 - accuracy: 0.5000 - val_loss: 0.7313 - val_accuracy: 0.5000\n",
            "Epoch 22/100\n",
            "3/3 [==============================] - 0s 26ms/step - loss: 0.8047 - accuracy: 0.5000 - val_loss: 0.7294 - val_accuracy: 0.5000\n",
            "Epoch 23/100\n",
            "3/3 [==============================] - 0s 17ms/step - loss: 0.8026 - accuracy: 0.5000 - val_loss: 0.7275 - val_accuracy: 0.5000\n",
            "Epoch 24/100\n",
            "3/3 [==============================] - 0s 18ms/step - loss: 0.8006 - accuracy: 0.5000 - val_loss: 0.7257 - val_accuracy: 0.5000\n",
            "Epoch 25/100\n",
            "3/3 [==============================] - 0s 16ms/step - loss: 0.7985 - accuracy: 0.5000 - val_loss: 0.7238 - val_accuracy: 0.5000\n",
            "Epoch 26/100\n",
            "3/3 [==============================] - 0s 17ms/step - loss: 0.7967 - accuracy: 0.5000 - val_loss: 0.7220 - val_accuracy: 0.5000\n",
            "Epoch 27/100\n",
            "3/3 [==============================] - 0s 17ms/step - loss: 0.7948 - accuracy: 0.5000 - val_loss: 0.7202 - val_accuracy: 0.5000\n",
            "Epoch 28/100\n",
            "3/3 [==============================] - 0s 20ms/step - loss: 0.7928 - accuracy: 0.5000 - val_loss: 0.7185 - val_accuracy: 0.5000\n",
            "Epoch 29/100\n",
            "3/3 [==============================] - 0s 18ms/step - loss: 0.7911 - accuracy: 0.5000 - val_loss: 0.7167 - val_accuracy: 0.5000\n",
            "Epoch 30/100\n",
            "3/3 [==============================] - 0s 28ms/step - loss: 0.7892 - accuracy: 0.5000 - val_loss: 0.7150 - val_accuracy: 0.5000\n",
            "Epoch 31/100\n",
            "3/3 [==============================] - 0s 29ms/step - loss: 0.7874 - accuracy: 0.5000 - val_loss: 0.7134 - val_accuracy: 0.5000\n",
            "Epoch 32/100\n",
            "3/3 [==============================] - 0s 20ms/step - loss: 0.7855 - accuracy: 0.5000 - val_loss: 0.7118 - val_accuracy: 0.5000\n",
            "Epoch 33/100\n",
            "3/3 [==============================] - 0s 28ms/step - loss: 0.7839 - accuracy: 0.5000 - val_loss: 0.7101 - val_accuracy: 0.5000\n",
            "Epoch 34/100\n",
            "3/3 [==============================] - 0s 30ms/step - loss: 0.7822 - accuracy: 0.5000 - val_loss: 0.7085 - val_accuracy: 0.5000\n",
            "Epoch 35/100\n",
            "3/3 [==============================] - 0s 34ms/step - loss: 0.7803 - accuracy: 0.5000 - val_loss: 0.7070 - val_accuracy: 0.5000\n",
            "Epoch 36/100\n",
            "3/3 [==============================] - 0s 21ms/step - loss: 0.7786 - accuracy: 0.5000 - val_loss: 0.7054 - val_accuracy: 0.5000\n",
            "Epoch 37/100\n",
            "3/3 [==============================] - 0s 21ms/step - loss: 0.7768 - accuracy: 0.5000 - val_loss: 0.7039 - val_accuracy: 0.5000\n",
            "Epoch 38/100\n",
            "3/3 [==============================] - 0s 20ms/step - loss: 0.7753 - accuracy: 0.5000 - val_loss: 0.7024 - val_accuracy: 0.5000\n",
            "Epoch 39/100\n",
            "3/3 [==============================] - 0s 22ms/step - loss: 0.7734 - accuracy: 0.5000 - val_loss: 0.7009 - val_accuracy: 0.5000\n",
            "Epoch 40/100\n",
            "3/3 [==============================] - 0s 31ms/step - loss: 0.7718 - accuracy: 0.5000 - val_loss: 0.6995 - val_accuracy: 0.5000\n",
            "Epoch 41/100\n",
            "3/3 [==============================] - 0s 22ms/step - loss: 0.7705 - accuracy: 0.5000 - val_loss: 0.6980 - val_accuracy: 0.5000\n",
            "Epoch 42/100\n",
            "3/3 [==============================] - 0s 29ms/step - loss: 0.7686 - accuracy: 0.5000 - val_loss: 0.6966 - val_accuracy: 0.5000\n",
            "Epoch 43/100\n",
            "3/3 [==============================] - 0s 29ms/step - loss: 0.7670 - accuracy: 0.5000 - val_loss: 0.6952 - val_accuracy: 0.5000\n",
            "Epoch 44/100\n",
            "3/3 [==============================] - 0s 28ms/step - loss: 0.7654 - accuracy: 0.5000 - val_loss: 0.6939 - val_accuracy: 0.5000\n",
            "Epoch 45/100\n",
            "3/3 [==============================] - 0s 27ms/step - loss: 0.7639 - accuracy: 0.5000 - val_loss: 0.6926 - val_accuracy: 0.5000\n",
            "Epoch 46/100\n",
            "3/3 [==============================] - 0s 19ms/step - loss: 0.7625 - accuracy: 0.5000 - val_loss: 0.6913 - val_accuracy: 0.5000\n",
            "Epoch 47/100\n",
            "3/3 [==============================] - 0s 32ms/step - loss: 0.7611 - accuracy: 0.5000 - val_loss: 0.6899 - val_accuracy: 0.5000\n",
            "Epoch 48/100\n",
            "3/3 [==============================] - 0s 24ms/step - loss: 0.7594 - accuracy: 0.5000 - val_loss: 0.6887 - val_accuracy: 0.5000\n",
            "Epoch 49/100\n",
            "3/3 [==============================] - 0s 20ms/step - loss: 0.7580 - accuracy: 0.5000 - val_loss: 0.6875 - val_accuracy: 0.5000\n",
            "Epoch 50/100\n",
            "3/3 [==============================] - 0s 20ms/step - loss: 0.7567 - accuracy: 0.5000 - val_loss: 0.6862 - val_accuracy: 0.5000\n",
            "Epoch 51/100\n",
            "3/3 [==============================] - 0s 32ms/step - loss: 0.7553 - accuracy: 0.5000 - val_loss: 0.6850 - val_accuracy: 0.5000\n",
            "Epoch 52/100\n",
            "3/3 [==============================] - 0s 20ms/step - loss: 0.7539 - accuracy: 0.5000 - val_loss: 0.6838 - val_accuracy: 0.5000\n",
            "Epoch 53/100\n",
            "3/3 [==============================] - 0s 27ms/step - loss: 0.7527 - accuracy: 0.5000 - val_loss: 0.6826 - val_accuracy: 0.5000\n",
            "Epoch 54/100\n",
            "3/3 [==============================] - 0s 20ms/step - loss: 0.7514 - accuracy: 0.5000 - val_loss: 0.6815 - val_accuracy: 0.5000\n",
            "Epoch 55/100\n",
            "3/3 [==============================] - 0s 29ms/step - loss: 0.7502 - accuracy: 0.5000 - val_loss: 0.6804 - val_accuracy: 0.5000\n",
            "Epoch 56/100\n",
            "3/3 [==============================] - 0s 28ms/step - loss: 0.7488 - accuracy: 0.5000 - val_loss: 0.6793 - val_accuracy: 0.5000\n",
            "Epoch 57/100\n",
            "3/3 [==============================] - 0s 19ms/step - loss: 0.7477 - accuracy: 0.5000 - val_loss: 0.6782 - val_accuracy: 0.5000\n",
            "Epoch 58/100\n",
            "3/3 [==============================] - 0s 20ms/step - loss: 0.7463 - accuracy: 0.5000 - val_loss: 0.6771 - val_accuracy: 0.5000\n",
            "Epoch 59/100\n",
            "3/3 [==============================] - 0s 29ms/step - loss: 0.7452 - accuracy: 0.5000 - val_loss: 0.6760 - val_accuracy: 0.5000\n",
            "Epoch 60/100\n",
            "3/3 [==============================] - 0s 20ms/step - loss: 0.7439 - accuracy: 0.5000 - val_loss: 0.6750 - val_accuracy: 0.5000\n",
            "Epoch 61/100\n",
            "3/3 [==============================] - 0s 20ms/step - loss: 0.7428 - accuracy: 0.5000 - val_loss: 0.6739 - val_accuracy: 0.5000\n",
            "Epoch 62/100\n",
            "3/3 [==============================] - 0s 21ms/step - loss: 0.7414 - accuracy: 0.5000 - val_loss: 0.6729 - val_accuracy: 0.5000\n",
            "Epoch 63/100\n",
            "3/3 [==============================] - 0s 17ms/step - loss: 0.7403 - accuracy: 0.5000 - val_loss: 0.6719 - val_accuracy: 0.5000\n",
            "Epoch 64/100\n",
            "3/3 [==============================] - 0s 17ms/step - loss: 0.7390 - accuracy: 0.5000 - val_loss: 0.6708 - val_accuracy: 0.5000\n",
            "Epoch 65/100\n",
            "3/3 [==============================] - 0s 16ms/step - loss: 0.7379 - accuracy: 0.5000 - val_loss: 0.6698 - val_accuracy: 0.5000\n",
            "Epoch 66/100\n",
            "3/3 [==============================] - 0s 16ms/step - loss: 0.7366 - accuracy: 0.5000 - val_loss: 0.6688 - val_accuracy: 0.5000\n",
            "Epoch 67/100\n",
            "3/3 [==============================] - 0s 18ms/step - loss: 0.7355 - accuracy: 0.5000 - val_loss: 0.6678 - val_accuracy: 0.5000\n",
            "Epoch 68/100\n",
            "3/3 [==============================] - 0s 18ms/step - loss: 0.7343 - accuracy: 0.5000 - val_loss: 0.6669 - val_accuracy: 0.5000\n",
            "Epoch 69/100\n",
            "3/3 [==============================] - 0s 17ms/step - loss: 0.7331 - accuracy: 0.5000 - val_loss: 0.6660 - val_accuracy: 0.5000\n",
            "Epoch 70/100\n",
            "3/3 [==============================] - 0s 23ms/step - loss: 0.7321 - accuracy: 0.5000 - val_loss: 0.6650 - val_accuracy: 0.5000\n",
            "Epoch 71/100\n",
            "3/3 [==============================] - 0s 17ms/step - loss: 0.7310 - accuracy: 0.5000 - val_loss: 0.6641 - val_accuracy: 0.5000\n",
            "Epoch 72/100\n",
            "3/3 [==============================] - 0s 17ms/step - loss: 0.7297 - accuracy: 0.5000 - val_loss: 0.6632 - val_accuracy: 0.5000\n",
            "Epoch 73/100\n",
            "3/3 [==============================] - 0s 17ms/step - loss: 0.7287 - accuracy: 0.5000 - val_loss: 0.6623 - val_accuracy: 0.5000\n",
            "Epoch 74/100\n",
            "3/3 [==============================] - 0s 27ms/step - loss: 0.7278 - accuracy: 0.5000 - val_loss: 0.6614 - val_accuracy: 0.5000\n",
            "Epoch 75/100\n",
            "3/3 [==============================] - 0s 17ms/step - loss: 0.7267 - accuracy: 0.5000 - val_loss: 0.6606 - val_accuracy: 0.5500\n",
            "Epoch 76/100\n",
            "3/3 [==============================] - 0s 17ms/step - loss: 0.7256 - accuracy: 0.5000 - val_loss: 0.6597 - val_accuracy: 0.5500\n",
            "Epoch 77/100\n",
            "3/3 [==============================] - 0s 18ms/step - loss: 0.7247 - accuracy: 0.5000 - val_loss: 0.6588 - val_accuracy: 0.5500\n",
            "Epoch 78/100\n",
            "3/3 [==============================] - 0s 26ms/step - loss: 0.7235 - accuracy: 0.5000 - val_loss: 0.6580 - val_accuracy: 0.5500\n",
            "Epoch 79/100\n",
            "3/3 [==============================] - 0s 17ms/step - loss: 0.7226 - accuracy: 0.5000 - val_loss: 0.6571 - val_accuracy: 0.5500\n",
            "Epoch 80/100\n",
            "3/3 [==============================] - 0s 17ms/step - loss: 0.7216 - accuracy: 0.5000 - val_loss: 0.6563 - val_accuracy: 0.5500\n",
            "Epoch 81/100\n",
            "3/3 [==============================] - 0s 17ms/step - loss: 0.7207 - accuracy: 0.5000 - val_loss: 0.6555 - val_accuracy: 0.5500\n",
            "Epoch 82/100\n",
            "3/3 [==============================] - 0s 18ms/step - loss: 0.7197 - accuracy: 0.5000 - val_loss: 0.6548 - val_accuracy: 0.6000\n",
            "Epoch 83/100\n",
            "3/3 [==============================] - 0s 17ms/step - loss: 0.7189 - accuracy: 0.5000 - val_loss: 0.6540 - val_accuracy: 0.6000\n",
            "Epoch 84/100\n",
            "3/3 [==============================] - 0s 17ms/step - loss: 0.7180 - accuracy: 0.5000 - val_loss: 0.6533 - val_accuracy: 0.6000\n",
            "Epoch 85/100\n",
            "3/3 [==============================] - 0s 17ms/step - loss: 0.7170 - accuracy: 0.5000 - val_loss: 0.6525 - val_accuracy: 0.6000\n",
            "Epoch 86/100\n",
            "3/3 [==============================] - 0s 17ms/step - loss: 0.7162 - accuracy: 0.5000 - val_loss: 0.6518 - val_accuracy: 0.6000\n",
            "Epoch 87/100\n",
            "3/3 [==============================] - 0s 18ms/step - loss: 0.7152 - accuracy: 0.5000 - val_loss: 0.6510 - val_accuracy: 0.6000\n",
            "Epoch 88/100\n",
            "3/3 [==============================] - 0s 28ms/step - loss: 0.7144 - accuracy: 0.5000 - val_loss: 0.6503 - val_accuracy: 0.6500\n",
            "Epoch 89/100\n",
            "3/3 [==============================] - 0s 17ms/step - loss: 0.7136 - accuracy: 0.5000 - val_loss: 0.6495 - val_accuracy: 0.6500\n",
            "Epoch 90/100\n",
            "3/3 [==============================] - 0s 18ms/step - loss: 0.7127 - accuracy: 0.5000 - val_loss: 0.6489 - val_accuracy: 0.6500\n",
            "Epoch 91/100\n",
            "3/3 [==============================] - 0s 22ms/step - loss: 0.7118 - accuracy: 0.5000 - val_loss: 0.6482 - val_accuracy: 0.6500\n",
            "Epoch 92/100\n",
            "3/3 [==============================] - 0s 16ms/step - loss: 0.7111 - accuracy: 0.5000 - val_loss: 0.6475 - val_accuracy: 0.6500\n",
            "Epoch 93/100\n",
            "3/3 [==============================] - 0s 17ms/step - loss: 0.7102 - accuracy: 0.5000 - val_loss: 0.6468 - val_accuracy: 0.6500\n",
            "Epoch 94/100\n",
            "3/3 [==============================] - 0s 17ms/step - loss: 0.7094 - accuracy: 0.5000 - val_loss: 0.6462 - val_accuracy: 0.6500\n",
            "Epoch 95/100\n",
            "3/3 [==============================] - 0s 21ms/step - loss: 0.7086 - accuracy: 0.5000 - val_loss: 0.6455 - val_accuracy: 0.6500\n",
            "Epoch 96/100\n",
            "3/3 [==============================] - 0s 25ms/step - loss: 0.7078 - accuracy: 0.5000 - val_loss: 0.6449 - val_accuracy: 0.6500\n",
            "Epoch 97/100\n",
            "3/3 [==============================] - 0s 18ms/step - loss: 0.7071 - accuracy: 0.5125 - val_loss: 0.6442 - val_accuracy: 0.6500\n",
            "Epoch 98/100\n",
            "3/3 [==============================] - 0s 17ms/step - loss: 0.7063 - accuracy: 0.5125 - val_loss: 0.6436 - val_accuracy: 0.6500\n",
            "Epoch 99/100\n",
            "3/3 [==============================] - 0s 19ms/step - loss: 0.7056 - accuracy: 0.5125 - val_loss: 0.6429 - val_accuracy: 0.6500\n",
            "Epoch 100/100\n",
            "3/3 [==============================] - 0s 17ms/step - loss: 0.7047 - accuracy: 0.5125 - val_loss: 0.6423 - val_accuracy: 0.6500\n"
          ]
        }
      ]
    },
    {
      "cell_type": "code",
      "source": [
        "model_2.get_weights()"
      ],
      "metadata": {
        "colab": {
          "base_uri": "https://localhost:8080/"
        },
        "outputId": "f972f71b-2d1a-4cb1-b82a-22d7a0b7651d",
        "id": "sPOoDza_YYhJ"
      },
      "execution_count": 28,
      "outputs": [
        {
          "output_type": "execute_result",
          "data": {
            "text/plain": [
              "[array([[0.7199561 , 0.7199561 ],\n",
              "        [0.22158161, 0.22158161]], dtype=float32),\n",
              " array([0.25974268, 0.25974268], dtype=float32),\n",
              " array([[0.30611062],\n",
              "        [0.30611062]], dtype=float32),\n",
              " array([0.25871593], dtype=float32)]"
            ]
          },
          "metadata": {},
          "execution_count": 28
        }
      ]
    },
    {
      "cell_type": "code",
      "source": [
        "from mlxtend.plotting import plot_decision_regions\n",
        "plot_decision_regions(X,y.astype('int'), clf=model_2, legend=2)"
      ],
      "metadata": {
        "colab": {
          "base_uri": "https://localhost:8080/",
          "height": 466
        },
        "outputId": "6dbe2c45-4442-4f72-c5ec-99273259b248",
        "id": "PYgihRTAYYhJ"
      },
      "execution_count": 29,
      "outputs": [
        {
          "output_type": "stream",
          "name": "stdout",
          "text": [
            "9600/9600 [==============================] - 14s 1ms/step\n"
          ]
        },
        {
          "output_type": "execute_result",
          "data": {
            "text/plain": [
              "<Axes: >"
            ]
          },
          "metadata": {},
          "execution_count": 29
        },
        {
          "output_type": "display_data",
          "data": {
            "text/plain": [
              "<Figure size 640x480 with 1 Axes>"
            ],
            "image/png": "[encoded data removed]"
          },
          "metadata": {}
        }
      ]
    }
  ]
}