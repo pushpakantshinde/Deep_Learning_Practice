{
 "cells": [
  {
   "cell_type": "code",
   "execution_count": 3,
   "id": "83fa2eea",
   "metadata": {
    "collapsed": true
   },
   "outputs": [
    {
     "name": "stdout",
     "output_type": "stream",
     "text": [
      "Collecting opencv-python\n",
      "  Obtaining dependency information for opencv-python from https://files.pythonhosted.org/packages/c7/ec/9dabb6a9abfdebb3c45b0cc52dec901caafef2b2c7e7d6a839ed86d81e91/opencv_python-4.9.0.80-cp37-abi3-win_amd64.whl.metadata\n",
      "  Downloading opencv_python-4.9.0.80-cp37-abi3-win_amd64.whl.metadata (20 kB)\n",
      "Requirement already satisfied: numpy>=1.21.2 in c:\\users\\pushp\\anaconda3\\lib\\site-packages (from opencv-python) (1.24.3)\n",
      "Downloading opencv_python-4.9.0.80-cp37-abi3-win_amd64.whl (38.6 MB)\n",
      "   ---------------------------------------- 0.0/38.6 MB ? eta -:--:--\n",
      "   ---------------------------------------- 0.1/38.6 MB 3.8 MB/s eta 0:00:11\n",
      "    --------------------------------------- 0.6/38.6 MB 8.9 MB/s eta 0:00:05\n",
      "    --------------------------------------- 1.0/38.6 MB 10.1 MB/s eta 0:00:04\n",
      "    --------------------------------------- 1.0/38.6 MB 10.1 MB/s eta 0:00:04\n",
      "   - -------------------------------------- 1.1/38.6 MB 5.8 MB/s eta 0:00:07\n",
      "   - -------------------------------------- 1.7/38.6 MB 7.9 MB/s eta 0:00:05\n",
      "   -- ------------------------------------- 2.4/38.6 MB 9.1 MB/s eta 0:00:04\n",
      "   --- ------------------------------------ 3.1/38.6 MB 9.9 MB/s eta 0:00:04\n",
      "   --- ------------------------------------ 3.1/38.6 MB 9.9 MB/s eta 0:00:04\n",
      "   --- ------------------------------------ 3.3/38.6 MB 8.9 MB/s eta 0:00:04\n",
      "   --- ------------------------------------ 3.6/38.6 MB 8.6 MB/s eta 0:00:05\n",
      "   ---- ----------------------------------- 4.0/38.6 MB 8.5 MB/s eta 0:00:05\n",
      "   ---- ----------------------------------- 4.2/38.6 MB 7.9 MB/s eta 0:00:05\n",
      "   ---- ----------------------------------- 4.5/38.6 MB 8.0 MB/s eta 0:00:05\n",
      "   ---- ----------------------------------- 4.8/38.6 MB 7.8 MB/s eta 0:00:05\n",
      "   ----- ---------------------------------- 5.1/38.6 MB 7.6 MB/s eta 0:00:05\n",
      "   ----- ---------------------------------- 5.4/38.6 MB 7.5 MB/s eta 0:00:05\n",
      "   ------ --------------------------------- 5.8/38.6 MB 7.6 MB/s eta 0:00:05\n",
      "   ------ --------------------------------- 6.1/38.6 MB 7.3 MB/s eta 0:00:05\n",
      "   ------ --------------------------------- 6.4/38.6 MB 7.3 MB/s eta 0:00:05\n",
      "   ------ --------------------------------- 6.7/38.6 MB 7.3 MB/s eta 0:00:05\n",
      "   ------- -------------------------------- 7.0/38.6 MB 7.2 MB/s eta 0:00:05\n",
      "   ------- -------------------------------- 7.3/38.6 MB 7.2 MB/s eta 0:00:05\n",
      "   ------- -------------------------------- 7.6/38.6 MB 7.0 MB/s eta 0:00:05\n",
      "   -------- ------------------------------- 7.9/38.6 MB 7.0 MB/s eta 0:00:05\n",
      "   -------- ------------------------------- 8.1/38.6 MB 7.0 MB/s eta 0:00:05\n",
      "   -------- ------------------------------- 8.4/38.6 MB 6.9 MB/s eta 0:00:05\n",
      "   -------- ------------------------------- 8.5/38.6 MB 7.0 MB/s eta 0:00:05\n",
      "   --------- ------------------------------ 8.9/38.6 MB 6.9 MB/s eta 0:00:05\n",
      "   --------- ------------------------------ 9.1/38.6 MB 6.9 MB/s eta 0:00:05\n",
      "   --------- ------------------------------ 9.4/38.6 MB 6.8 MB/s eta 0:00:05\n",
      "   ---------- ----------------------------- 9.7/38.6 MB 6.8 MB/s eta 0:00:05\n",
      "   ---------- ----------------------------- 10.0/38.6 MB 6.8 MB/s eta 0:00:05\n",
      "   ---------- ----------------------------- 10.3/38.6 MB 6.9 MB/s eta 0:00:05\n",
      "   ----------- ---------------------------- 10.6/38.6 MB 6.7 MB/s eta 0:00:05\n",
      "   ----------- ---------------------------- 10.9/38.6 MB 6.6 MB/s eta 0:00:05\n",
      "   ----------- ---------------------------- 11.2/38.6 MB 6.8 MB/s eta 0:00:05\n",
      "   ----------- ---------------------------- 11.5/38.6 MB 6.7 MB/s eta 0:00:05\n",
      "   ------------ --------------------------- 11.9/38.6 MB 6.6 MB/s eta 0:00:05\n",
      "   ------------ --------------------------- 12.2/38.6 MB 6.5 MB/s eta 0:00:05\n",
      "   ------------ --------------------------- 12.5/38.6 MB 6.3 MB/s eta 0:00:05\n",
      "   ------------- -------------------------- 12.8/38.6 MB 6.2 MB/s eta 0:00:05\n",
      "   ------------- -------------------------- 13.1/38.6 MB 6.1 MB/s eta 0:00:05\n",
      "   ------------- -------------------------- 13.4/38.6 MB 6.2 MB/s eta 0:00:05\n",
      "   -------------- ------------------------- 13.6/38.6 MB 6.2 MB/s eta 0:00:05\n",
      "   -------------- ------------------------- 13.9/38.6 MB 6.1 MB/s eta 0:00:05\n",
      "   -------------- ------------------------- 14.3/38.6 MB 6.1 MB/s eta 0:00:05\n",
      "   --------------- ------------------------ 14.5/38.6 MB 6.1 MB/s eta 0:00:04\n",
      "   --------------- ------------------------ 14.8/38.6 MB 6.1 MB/s eta 0:00:04\n",
      "   --------------- ------------------------ 15.1/38.6 MB 6.1 MB/s eta 0:00:04\n",
      "   --------------- ------------------------ 15.3/38.6 MB 6.1 MB/s eta 0:00:04\n",
      "   ---------------- ----------------------- 15.6/38.6 MB 6.1 MB/s eta 0:00:04\n",
      "   ---------------- ----------------------- 15.8/38.6 MB 6.1 MB/s eta 0:00:04\n",
      "   ---------------- ----------------------- 16.1/38.6 MB 6.1 MB/s eta 0:00:04\n",
      "   ---------------- ----------------------- 16.4/38.6 MB 6.1 MB/s eta 0:00:04\n",
      "   ----------------- ---------------------- 16.7/38.6 MB 6.1 MB/s eta 0:00:04\n",
      "   ----------------- ---------------------- 17.0/38.6 MB 6.1 MB/s eta 0:00:04\n",
      "   ----------------- ---------------------- 17.3/38.6 MB 6.1 MB/s eta 0:00:04\n",
      "   ------------------ --------------------- 17.5/38.6 MB 6.1 MB/s eta 0:00:04\n",
      "   ------------------ --------------------- 17.8/38.6 MB 6.1 MB/s eta 0:00:04\n",
      "   ------------------ --------------------- 18.1/38.6 MB 6.1 MB/s eta 0:00:04\n",
      "   ------------------- -------------------- 18.4/38.6 MB 6.1 MB/s eta 0:00:04\n",
      "   ------------------- -------------------- 18.7/38.6 MB 6.1 MB/s eta 0:00:04\n",
      "   ------------------- -------------------- 18.9/38.6 MB 6.1 MB/s eta 0:00:04\n",
      "   ------------------- -------------------- 19.2/38.6 MB 6.1 MB/s eta 0:00:04\n",
      "   -------------------- ------------------- 19.5/38.6 MB 6.1 MB/s eta 0:00:04\n",
      "   -------------------- ------------------- 19.9/38.6 MB 6.1 MB/s eta 0:00:04\n",
      "   -------------------- ------------------- 20.2/38.6 MB 6.1 MB/s eta 0:00:04\n",
      "   --------------------- ------------------ 20.5/38.6 MB 6.1 MB/s eta 0:00:03\n",
      "   --------------------- ------------------ 20.8/38.6 MB 6.1 MB/s eta 0:00:03\n",
      "   --------------------- ------------------ 21.1/38.6 MB 6.1 MB/s eta 0:00:03\n",
      "   ---------------------- ----------------- 21.4/38.6 MB 6.1 MB/s eta 0:00:03\n",
      "   ---------------------- ----------------- 21.7/38.6 MB 6.1 MB/s eta 0:00:03\n",
      "   ---------------------- ----------------- 22.0/38.6 MB 6.1 MB/s eta 0:00:03\n",
      "   ----------------------- ---------------- 22.2/38.6 MB 6.1 MB/s eta 0:00:03\n",
      "   ----------------------- ---------------- 22.6/38.6 MB 6.1 MB/s eta 0:00:03\n",
      "   ----------------------- ---------------- 22.9/38.6 MB 6.1 MB/s eta 0:00:03\n",
      "   ------------------------ --------------- 23.2/38.6 MB 6.1 MB/s eta 0:00:03\n",
      "   ------------------------ --------------- 23.5/38.6 MB 6.1 MB/s eta 0:00:03\n",
      "   ------------------------ --------------- 23.8/38.6 MB 6.1 MB/s eta 0:00:03\n",
      "   ------------------------ --------------- 24.1/38.6 MB 6.1 MB/s eta 0:00:03\n",
      "   ------------------------- -------------- 24.4/38.6 MB 6.1 MB/s eta 0:00:03\n",
      "   ------------------------- -------------- 24.7/38.6 MB 6.1 MB/s eta 0:00:03\n",
      "   ------------------------- -------------- 25.0/38.6 MB 6.1 MB/s eta 0:00:03\n",
      "   -------------------------- ------------- 25.3/38.6 MB 6.1 MB/s eta 0:00:03\n",
      "   -------------------------- ------------- 25.6/38.6 MB 6.1 MB/s eta 0:00:03\n",
      "   -------------------------- ------------- 25.9/38.6 MB 6.1 MB/s eta 0:00:03\n",
      "   --------------------------- ------------ 26.2/38.6 MB 6.1 MB/s eta 0:00:03\n",
      "   --------------------------- ------------ 26.5/38.6 MB 6.1 MB/s eta 0:00:02\n",
      "   --------------------------- ------------ 26.8/38.6 MB 6.1 MB/s eta 0:00:02\n",
      "   ---------------------------- ----------- 27.1/38.6 MB 6.1 MB/s eta 0:00:02\n",
      "   ---------------------------- ----------- 27.4/38.6 MB 6.1 MB/s eta 0:00:02\n",
      "   ---------------------------- ----------- 27.7/38.6 MB 6.1 MB/s eta 0:00:02\n",
      "   ---------------------------- ----------- 27.9/38.6 MB 6.1 MB/s eta 0:00:02\n",
      "   ----------------------------- ---------- 28.0/38.6 MB 6.0 MB/s eta 0:00:02\n",
      "   ----------------------------- ---------- 28.3/38.6 MB 6.0 MB/s eta 0:00:02\n",
      "   ----------------------------- ---------- 28.5/38.6 MB 5.9 MB/s eta 0:00:02\n",
      "   ----------------------------- ---------- 28.9/38.6 MB 6.0 MB/s eta 0:00:02\n",
      "   ------------------------------ --------- 29.4/38.6 MB 6.1 MB/s eta 0:00:02\n",
      "   ------------------------------ --------- 29.6/38.6 MB 6.1 MB/s eta 0:00:02\n",
      "   ------------------------------ --------- 29.9/38.6 MB 6.1 MB/s eta 0:00:02\n",
      "   ------------------------------- -------- 30.1/38.6 MB 6.0 MB/s eta 0:00:02\n",
      "   ------------------------------- -------- 30.5/38.6 MB 6.1 MB/s eta 0:00:02\n",
      "   ------------------------------- -------- 30.8/38.6 MB 6.1 MB/s eta 0:00:02\n",
      "   -------------------------------- ------- 31.1/38.6 MB 6.1 MB/s eta 0:00:02\n",
      "   -------------------------------- ------- 31.4/38.6 MB 6.1 MB/s eta 0:00:02\n",
      "   -------------------------------- ------- 31.6/38.6 MB 6.1 MB/s eta 0:00:02\n",
      "   --------------------------------- ------ 31.9/38.6 MB 6.1 MB/s eta 0:00:02\n",
      "   --------------------------------- ------ 32.2/38.6 MB 6.1 MB/s eta 0:00:02\n",
      "   --------------------------------- ------ 32.5/38.6 MB 6.1 MB/s eta 0:00:02\n",
      "   --------------------------------- ------ 32.8/38.6 MB 6.1 MB/s eta 0:00:01\n",
      "   ---------------------------------- ----- 33.1/38.6 MB 6.1 MB/s eta 0:00:01\n",
      "   ---------------------------------- ----- 33.4/38.6 MB 6.1 MB/s eta 0:00:01\n",
      "   ---------------------------------- ----- 33.7/38.6 MB 6.1 MB/s eta 0:00:01\n",
      "   ----------------------------------- ---- 34.0/38.6 MB 6.1 MB/s eta 0:00:01\n",
      "   ----------------------------------- ---- 34.3/38.6 MB 6.1 MB/s eta 0:00:01\n",
      "   ----------------------------------- ---- 34.6/38.6 MB 6.1 MB/s eta 0:00:01\n",
      "   ------------------------------------ --- 34.9/38.6 MB 6.1 MB/s eta 0:00:01\n",
      "   ------------------------------------ --- 35.2/38.6 MB 6.1 MB/s eta 0:00:01\n",
      "   ------------------------------------ --- 35.4/38.6 MB 6.1 MB/s eta 0:00:01\n",
      "   ------------------------------------- -- 35.7/38.6 MB 6.1 MB/s eta 0:00:01\n",
      "   ------------------------------------- -- 36.0/38.6 MB 6.1 MB/s eta 0:00:01\n",
      "   ------------------------------------- -- 36.4/38.6 MB 6.1 MB/s eta 0:00:01\n",
      "   ------------------------------------- -- 36.7/38.6 MB 6.1 MB/s eta 0:00:01\n",
      "   -------------------------------------- - 37.0/38.6 MB 6.1 MB/s eta 0:00:01\n",
      "   -------------------------------------- - 37.2/38.6 MB 6.1 MB/s eta 0:00:01\n",
      "   -------------------------------------- - 37.5/38.6 MB 6.1 MB/s eta 0:00:01\n",
      "   ---------------------------------------  37.8/38.6 MB 6.1 MB/s eta 0:00:01\n",
      "   ---------------------------------------  38.0/38.6 MB 6.1 MB/s eta 0:00:01\n",
      "   ---------------------------------------  38.3/38.6 MB 6.2 MB/s eta 0:00:01\n",
      "   ---------------------------------------  38.5/38.6 MB 6.1 MB/s eta 0:00:01\n",
      "   ---------------------------------------  38.6/38.6 MB 6.2 MB/s eta 0:00:01\n",
      "   ---------------------------------------  38.6/38.6 MB 6.2 MB/s eta 0:00:01\n",
      "   ---------------------------------------  38.6/38.6 MB 6.2 MB/s eta 0:00:01\n",
      "   ---------------------------------------- 38.6/38.6 MB 5.8 MB/s eta 0:00:00\n",
      "Installing collected packages: opencv-python\n",
      "Successfully installed opencv-python-4.9.0.80\n",
      "Note: you may need to restart the kernel to use updated packages.\n"
     ]
    }
   ],
   "source": [
    "pip install opencv-python"
   ]
  },
  {
   "cell_type": "code",
   "execution_count": 4,
   "id": "41a955ea",
   "metadata": {},
   "outputs": [],
   "source": [
    "import cv2\n",
    "import os \n",
    "import random\n",
    "import numpy as np"
   ]
  },
  {
   "cell_type": "code",
   "execution_count": 5,
   "id": "a4c609f6",
   "metadata": {},
   "outputs": [],
   "source": [
    "my_dir = r'D:\\__Data_Science__\\iNeuron\\02_Full_Stack_Data_Science_Masters\\__CampusX__\\__Deep_Learning__\\CNN\\cat_vs_dogs_classification_normal\\train'"
   ]
  },
  {
   "cell_type": "code",
   "execution_count": 6,
   "id": "1cd36b83",
   "metadata": {},
   "outputs": [],
   "source": [
    "categories = ['cats', 'dogs']"
   ]
  },
  {
   "cell_type": "code",
   "execution_count": 7,
   "id": "401fb637",
   "metadata": {},
   "outputs": [],
   "source": [
    "data = []\n",
    "\n",
    "for i in categories:\n",
    "    \n",
    "    folder_path = os.path.join(my_dir, i)\n",
    "    \n",
    "    if i == 'cats':\n",
    "        label = 0\n",
    "    else:\n",
    "        label = 1\n",
    "    \n",
    "    for j in os.listdir(folder_path):\n",
    "        img_path = os.path.join(folder_path, j)\n",
    "        img = cv2.imread(img_path)\n",
    "        img = cv2.resize(img, (150,150))\n",
    "        data.append([img,label])\n",
    "    \n",
    "    "
   ]
  },
  {
   "cell_type": "code",
   "execution_count": 8,
   "id": "8cce92ae",
   "metadata": {},
   "outputs": [],
   "source": [
    "random.shuffle(data)"
   ]
  },
  {
   "cell_type": "code",
   "execution_count": 9,
   "id": "0aae9591",
   "metadata": {},
   "outputs": [],
   "source": [
    "X = []\n",
    "y = []\n",
    "\n",
    "for i in data:\n",
    "    X.append(i[0])\n",
    "    y.append(i[1])"
   ]
  },
  {
   "cell_type": "code",
   "execution_count": 10,
   "id": "72b9f9a6",
   "metadata": {},
   "outputs": [],
   "source": [
    "y = np.array(y)"
   ]
  },
  {
   "cell_type": "code",
   "execution_count": 11,
   "id": "b26ce924",
   "metadata": {},
   "outputs": [],
   "source": [
    "X = np.array(X)"
   ]
  },
  {
   "cell_type": "code",
   "execution_count": 12,
   "id": "320db10e",
   "metadata": {},
   "outputs": [
    {
     "data": {
      "text/plain": [
       "(20000, 150, 150, 3)"
      ]
     },
     "execution_count": 12,
     "metadata": {},
     "output_type": "execute_result"
    }
   ],
   "source": [
    "X.shape"
   ]
  },
  {
   "cell_type": "code",
   "execution_count": 13,
   "id": "b0f501ce",
   "metadata": {},
   "outputs": [],
   "source": [
    "X = X/255"
   ]
  },
  {
   "cell_type": "code",
   "execution_count": 14,
   "id": "dfc53b3e",
   "metadata": {},
   "outputs": [
    {
     "name": "stdout",
     "output_type": "stream",
     "text": [
      "WARNING:tensorflow:From C:\\Users\\pushp\\anaconda3\\Lib\\site-packages\\keras\\src\\losses.py:2976: The name tf.losses.sparse_softmax_cross_entropy is deprecated. Please use tf.compat.v1.losses.sparse_softmax_cross_entropy instead.\n",
      "\n"
     ]
    }
   ],
   "source": [
    "from keras.models import Sequential\n",
    "from keras.layers import Conv2D, MaxPooling2D\n",
    "from keras.layers import Activation, Dropout, Flatten, Dense\n"
   ]
  },
  {
   "cell_type": "code",
   "execution_count": 17,
   "id": "50ffe5cb",
   "metadata": {},
   "outputs": [],
   "source": [
    "model = Sequential()\n",
    "model.add(Conv2D(32, (3, 3), input_shape=(150, 150,3)))\n",
    "model.add(Activation('relu'))\n",
    "model.add(MaxPooling2D(pool_size=(2, 2)))\n",
    "\n",
    "model.add(Conv2D(32, (3, 3)))\n",
    "model.add(Activation('relu'))\n",
    "model.add(MaxPooling2D(pool_size=(2, 2)))\n",
    "\n",
    "model.add(Conv2D(64, (3, 3)))\n",
    "model.add(Activation('relu'))\n",
    "model.add(MaxPooling2D(pool_size=(2, 2)))"
   ]
  },
  {
   "cell_type": "code",
   "execution_count": 18,
   "id": "7033b0e1",
   "metadata": {},
   "outputs": [
    {
     "name": "stdout",
     "output_type": "stream",
     "text": [
      "WARNING:tensorflow:From C:\\Users\\pushp\\anaconda3\\Lib\\site-packages\\keras\\src\\optimizers\\__init__.py:309: The name tf.train.Optimizer is deprecated. Please use tf.compat.v1.train.Optimizer instead.\n",
      "\n"
     ]
    }
   ],
   "source": [
    "model.add(Flatten())  # this converts our 3D feature maps to 1D feature vectors\n",
    "model.add(Dense(64))\n",
    "model.add(Activation('relu'))\n",
    "model.add(Dropout(0.5))\n",
    "model.add(Dense(1))\n",
    "model.add(Activation('sigmoid'))\n",
    "\n",
    "model.compile(loss='binary_crossentropy',\n",
    "              optimizer='rmsprop',\n",
    "              metrics=['accuracy'])"
   ]
  },
  {
   "cell_type": "code",
   "execution_count": 19,
   "id": "96c77bc4",
   "metadata": {},
   "outputs": [
    {
     "name": "stdout",
     "output_type": "stream",
     "text": [
      "Epoch 1/5\n",
      "WARNING:tensorflow:From C:\\Users\\pushp\\anaconda3\\Lib\\site-packages\\keras\\src\\utils\\tf_utils.py:492: The name tf.ragged.RaggedTensorValue is deprecated. Please use tf.compat.v1.ragged.RaggedTensorValue instead.\n",
      "\n",
      "WARNING:tensorflow:From C:\\Users\\pushp\\anaconda3\\Lib\\site-packages\\keras\\src\\engine\\base_layer_utils.py:384: The name tf.executing_eagerly_outside_functions is deprecated. Please use tf.compat.v1.executing_eagerly_outside_functions instead.\n",
      "\n",
      "625/625 [==============================] - ETA: 0s - loss: 0.6379 - accuracy: 0.6327"
     ]
    },
    {
     "ename": "IndexError",
     "evalue": "tuple index out of range",
     "output_type": "error",
     "traceback": [
      "\u001b[1;31m---------------------------------------------------------------------------\u001b[0m",
      "\u001b[1;31mIndexError\u001b[0m                                Traceback (most recent call last)",
      "Cell \u001b[1;32mIn[19], line 1\u001b[0m\n\u001b[1;32m----> 1\u001b[0m model\u001b[38;5;241m.\u001b[39mfit(X,y,epochs\u001b[38;5;241m=\u001b[39m\u001b[38;5;241m5\u001b[39m,validation_data\u001b[38;5;241m=\u001b[39m\u001b[38;5;241m0.1\u001b[39m)\n",
      "File \u001b[1;32m~\\anaconda3\\Lib\\site-packages\\keras\\src\\utils\\traceback_utils.py:70\u001b[0m, in \u001b[0;36mfilter_traceback.<locals>.error_handler\u001b[1;34m(*args, **kwargs)\u001b[0m\n\u001b[0;32m     67\u001b[0m     filtered_tb \u001b[38;5;241m=\u001b[39m _process_traceback_frames(e\u001b[38;5;241m.\u001b[39m__traceback__)\n\u001b[0;32m     68\u001b[0m     \u001b[38;5;66;03m# To get the full stack trace, call:\u001b[39;00m\n\u001b[0;32m     69\u001b[0m     \u001b[38;5;66;03m# `tf.debugging.disable_traceback_filtering()`\u001b[39;00m\n\u001b[1;32m---> 70\u001b[0m     \u001b[38;5;28;01mraise\u001b[39;00m e\u001b[38;5;241m.\u001b[39mwith_traceback(filtered_tb) \u001b[38;5;28;01mfrom\u001b[39;00m \u001b[38;5;28;01mNone\u001b[39;00m\n\u001b[0;32m     71\u001b[0m \u001b[38;5;28;01mfinally\u001b[39;00m:\n\u001b[0;32m     72\u001b[0m     \u001b[38;5;28;01mdel\u001b[39;00m filtered_tb\n",
      "File \u001b[1;32m~\\anaconda3\\Lib\\site-packages\\tensorflow\\python\\framework\\tensor_shape.py:962\u001b[0m, in \u001b[0;36mTensorShape.__getitem__\u001b[1;34m(self, key)\u001b[0m\n\u001b[0;32m    960\u001b[0m \u001b[38;5;28;01melse\u001b[39;00m:\n\u001b[0;32m    961\u001b[0m   \u001b[38;5;28;01mif\u001b[39;00m \u001b[38;5;28mself\u001b[39m\u001b[38;5;241m.\u001b[39m_v2_behavior:\n\u001b[1;32m--> 962\u001b[0m     \u001b[38;5;28;01mreturn\u001b[39;00m \u001b[38;5;28mself\u001b[39m\u001b[38;5;241m.\u001b[39m_dims[key]\n\u001b[0;32m    963\u001b[0m   \u001b[38;5;28;01melse\u001b[39;00m:\n\u001b[0;32m    964\u001b[0m     \u001b[38;5;28;01mreturn\u001b[39;00m \u001b[38;5;28mself\u001b[39m\u001b[38;5;241m.\u001b[39mdims[key]\n",
      "\u001b[1;31mIndexError\u001b[0m: tuple index out of range"
     ]
    }
   ],
   "source": [
    "model.fit(X,y,epochs=5,validation_data=0.1)"
   ]
  },
  {
   "cell_type": "code",
   "execution_count": null,
   "id": "28120e4a",
   "metadata": {},
   "outputs": [],
   "source": []
  }
 ],
 "metadata": {
  "kernelspec": {
   "display_name": "Python 3 (ipykernel)",
   "language": "python",
   "name": "python3"
  },
  "language_info": {
   "codemirror_mode": {
    "name": "ipython",
    "version": 3
   },
   "file_extension": ".py",
   "mimetype": "text/x-python",
   "name": "python",
   "nbconvert_exporter": "python",
   "pygments_lexer": "ipython3",
   "version": "3.11.5"
  }
 },
 "nbformat": 4,
 "nbformat_minor": 5
}
